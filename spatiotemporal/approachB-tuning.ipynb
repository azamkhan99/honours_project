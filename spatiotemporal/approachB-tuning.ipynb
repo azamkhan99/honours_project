{
 "cells": [
  {
   "cell_type": "markdown",
   "metadata": {},
   "source": [
    "# Importing libraries"
   ]
  },
  {
   "cell_type": "code",
   "execution_count": 1,
   "metadata": {},
   "outputs": [],
   "source": [
    "%matplotlib inline\n",
    "%load_ext autoreload\n",
    "%autoreload 2\n",
    "\n",
    "from sklearn.metrics import r2_score, mean_squared_error, mean_absolute_error\n",
    "\n",
    "import numpy as np\n",
    "import pandas as pd\n",
    "import tensorflow as tf\n",
    "from tensorflow.keras import Sequential\n",
    "from tensorflow.keras.layers import Flatten, Dense, Dropout, BatchNormalization, LSTM, TimeDistributed, Reshape\n",
    "from tensorflow.keras.layers import MaxPool2D, MaxPooling2D, MaxPooling1D\n",
    "from tensorflow.keras.optimizers import Adam\n",
    "from tensorflow.keras.regularizers import l2\n",
    "from tensorflow.keras.preprocessing.sequence import TimeseriesGenerator\n",
    "from tensorflow import keras\n",
    "\n",
    "from tensorflow.keras.callbacks import CSVLogger, EarlyStopping"
   ]
  },
  {
   "cell_type": "code",
   "execution_count": 2,
   "metadata": {},
   "outputs": [],
   "source": [
    "def mean_absolute_percentage_error(y_true, y_pred):\n",
    "    return np.mean(np.abs((y_true - y_pred) / y_true)) * 100"
   ]
  },
  {
   "cell_type": "code",
   "execution_count": 3,
   "metadata": {},
   "outputs": [],
   "source": [
    "from tensorboard.plugins.hparams import api as hp"
   ]
  },
  {
   "cell_type": "markdown",
   "metadata": {},
   "source": [
    "# Loading Files"
   ]
  },
  {
   "cell_type": "code",
   "execution_count": 4,
   "metadata": {},
   "outputs": [],
   "source": [
    "peeps = pd.read_csv(\"peeps_interpolations.csv\")\n",
    "peeps = peeps[~peeps.duplicated()]\n",
    "#peeps = peeps.set_index('timestamp')\n",
    "peeps = peeps.drop('Unnamed: 0', axis=1)\n",
    "peeps = peeps.dropna()"
   ]
  },
  {
   "cell_type": "code",
   "execution_count": 5,
   "metadata": {},
   "outputs": [],
   "source": [
    "leon = pd.read_csv(\"leon_interpolations.csv\")\n",
    "leon = leon[~leon.duplicated()]\n",
    "#leon = leon.set_index('timestamp')\n",
    "leon = leon.drop('Unnamed: 0', axis=1)\n",
    "leon = leon.dropna()"
   ]
  },
  {
   "cell_type": "code",
   "execution_count": 6,
   "metadata": {},
   "outputs": [],
   "source": [
    "guadalajara = pd.read_csv(\"guadalajara_interpolations.csv\")\n",
    "guadalajara = guadalajara[~guadalajara.duplicated()]\n",
    "#guadalajara = guadalajara.set_index('timestamp')\n",
    "guadalajara = guadalajara.drop('Unnamed: 0', axis=1)\n",
    "guadalajara = guadalajara.dropna()"
   ]
  },
  {
   "cell_type": "code",
   "execution_count": 7,
   "metadata": {},
   "outputs": [],
   "source": [
    "datasets = [peeps, leon, guadalajara]"
   ]
  },
  {
   "cell_type": "markdown",
   "metadata": {},
   "source": [
    "# Functions"
   ]
  },
  {
   "cell_type": "code",
   "execution_count": 8,
   "metadata": {},
   "outputs": [],
   "source": [
    "def ss_temporal_set(dataset):\n",
    "    split_percent = 0.70\n",
    "    split = int(split_percent*len(dataset))\n",
    "    \n",
    "    dataset = dataset.values\n",
    "    \n",
    "    def multivariate_data(dataset, target, start_index, end_index, history_size,\n",
    "                      target_size, step, single_step=False):\n",
    "        data = []\n",
    "        labels = []\n",
    "\n",
    "        start_index = start_index + history_size\n",
    "        if end_index is None:\n",
    "            end_index = len(dataset) - target_size\n",
    "\n",
    "        for i in range(start_index, end_index):\n",
    "            indices = range(i-history_size, i, step)\n",
    "            data.append(dataset[indices])\n",
    "\n",
    "            if single_step:\n",
    "                labels.append(target[i+target_size])\n",
    "            else:\n",
    "                labels.append(target[i:i+target_size])\n",
    "\n",
    "        return np.array(data), np.array(labels)\n",
    "    \n",
    "\n",
    "\n",
    "    past_history = (6)#30\n",
    "    future_target = 1#1\n",
    "    STEP=1#12\n",
    "\n",
    "\n",
    "    X_train, y_train = multivariate_data(dataset, dataset[:, 0], 0,\n",
    "                                                       split, past_history,\n",
    "                                                       future_target, STEP)\n",
    "    X_test, y_test = multivariate_data(dataset, dataset[:, 0],\n",
    "                                                   split, None, past_history,\n",
    "                                                   future_target, STEP)\n",
    "    \n",
    "    \n",
    "    X_train = X_train[::7] \n",
    "    y_train = y_train[::7] \n",
    "    X_test = X_test[::7]\n",
    "    y_test = y_test[::7]\n",
    "    \n",
    "    return X_train, y_train, X_test, y_test"
   ]
  },
  {
   "cell_type": "markdown",
   "metadata": {},
   "source": [
    "# Hyper-parameter Tuning, 1 Layer"
   ]
  },
  {
   "cell_type": "markdown",
   "metadata": {},
   "source": [
    "## Peeps"
   ]
  },
  {
   "cell_type": "code",
   "execution_count": 18,
   "metadata": {},
   "outputs": [],
   "source": [
    "%load_ext tensorboard"
   ]
  },
  {
   "cell_type": "code",
   "execution_count": 7,
   "metadata": {},
   "outputs": [],
   "source": [
    "rm -rf ./logs/"
   ]
  },
  {
   "cell_type": "code",
   "execution_count": 11,
   "metadata": {},
   "outputs": [
    {
     "ename": "NameError",
     "evalue": "name 'HP_NUM_PREV' is not defined",
     "output_type": "error",
     "traceback": [
      "\u001b[0;31m---------------------------------------------------------------------------\u001b[0m",
      "\u001b[0;31mNameError\u001b[0m                                 Traceback (most recent call last)",
      "\u001b[0;32m<ipython-input-11-084816be107f>\u001b[0m in \u001b[0;36m<module>\u001b[0;34m\u001b[0m\n\u001b[1;32m      7\u001b[0m \u001b[0;32mwith\u001b[0m \u001b[0mtf\u001b[0m\u001b[0;34m.\u001b[0m\u001b[0msummary\u001b[0m\u001b[0;34m.\u001b[0m\u001b[0mcreate_file_writer\u001b[0m\u001b[0;34m(\u001b[0m\u001b[0;34m'logs/hparam_tuning'\u001b[0m\u001b[0;34m)\u001b[0m\u001b[0;34m.\u001b[0m\u001b[0mas_default\u001b[0m\u001b[0;34m(\u001b[0m\u001b[0;34m)\u001b[0m\u001b[0;34m:\u001b[0m\u001b[0;34m\u001b[0m\u001b[0;34m\u001b[0m\u001b[0m\n\u001b[1;32m      8\u001b[0m     hp.hparams_config(\n\u001b[0;32m----> 9\u001b[0;31m     \u001b[0mhparams\u001b[0m\u001b[0;34m=\u001b[0m\u001b[0;34m[\u001b[0m\u001b[0mHP_NUM_PREV\u001b[0m\u001b[0;34m,\u001b[0m \u001b[0mHP_NUM_FUT\u001b[0m\u001b[0;34m,\u001b[0m \u001b[0mHP_LSTM_UNITS\u001b[0m\u001b[0;34m,\u001b[0m\u001b[0mHP_DENSE_UNITS\u001b[0m\u001b[0;34m]\u001b[0m\u001b[0;34m,\u001b[0m\u001b[0;34m\u001b[0m\u001b[0;34m\u001b[0m\u001b[0m\n\u001b[0m\u001b[1;32m     10\u001b[0m     \u001b[0mmetrics\u001b[0m\u001b[0;34m=\u001b[0m\u001b[0;34m[\u001b[0m\u001b[0mhp\u001b[0m\u001b[0;34m.\u001b[0m\u001b[0mMetric\u001b[0m\u001b[0;34m(\u001b[0m\u001b[0mMETRIC_MAPE\u001b[0m\u001b[0;34m,\u001b[0m \u001b[0mdisplay_name\u001b[0m\u001b[0;34m=\u001b[0m\u001b[0;34m'MAPE'\u001b[0m\u001b[0;34m)\u001b[0m\u001b[0;34m]\u001b[0m\u001b[0;34m,\u001b[0m\u001b[0;34m\u001b[0m\u001b[0;34m\u001b[0m\u001b[0m\n\u001b[1;32m     11\u001b[0m   )\n",
      "\u001b[0;31mNameError\u001b[0m: name 'HP_NUM_PREV' is not defined"
     ]
    }
   ],
   "source": [
    "\n",
    "HP_LSTM_UNITS = hp.HParam('num_lstm', hp.Discrete([1, 20, 50, 100, 200]))\n",
    "HP_DENSE_UNITS = hp.HParam('num_dense', hp.Discrete([5, 10, 15, 20, 100]))\n",
    "\n",
    "\n",
    "METRIC_MAE = 'mean_absolute_error'\n",
    "\n",
    "with tf.summary.create_file_writer('logs/hparam_tuning').as_default():\n",
    "    hp.hparams_config(\n",
    "    hparams=[HP_NUM_PREV, HP_NUM_FUT, HP_LSTM_UNITS,HP_DENSE_UNITS],\n",
    "    metrics=[hp.Metric(METRIC_MAE, display_name='MAE')],\n",
    "  )"
   ]
  },
  {
   "cell_type": "code",
   "execution_count": 46,
   "metadata": {},
   "outputs": [],
   "source": [
    "def one_layer_lstm(hparams,dataset):\n",
    "    \n",
    "    df = dataset\n",
    "\n",
    "    X_train, y_train, X_test, y_test = ss_temporal_set(df)\n",
    "\n",
    "\n",
    "    model = Sequential()\n",
    "    model.add(LSTM(units = 200, activation='relu', input_shape=X_train.shape[-2:]))\n",
    "    model.add(Dense(100, activation='relu', kernel_regularizer=tf.keras.regularizers.l2(0.1)))\n",
    "    model.add(Dense(1))\n",
    "\n",
    "    model.compile(optimizer='adam', loss = 'mean_absolute_percentage_error')\n",
    "\n",
    "    model.fit(X_train, y_train, epochs=3, batch_size=32, verbose = 0)\n",
    "\n",
    "    y_pred = model.predict(X_test)\n",
    "\n",
    "    mape = mean_absolute_percentage_error(y_test, y_pred)\n",
    "    mae = mean_absolute_error(y_test, y_pred)\n",
    "        \n",
    "    return mape, mae"
   ]
  },
  {
   "cell_type": "code",
   "execution_count": 14,
   "metadata": {},
   "outputs": [],
   "source": [
    "def run(run_dir, hparams, dataset):\n",
    "    with tf.summary.create_file_writer(run_dir).as_default():\n",
    "        hp.hparams(hparams)  # record the values used in this trial\n",
    "       \n",
    "        mape = one_layer_lstm(hparams, dataset)\n",
    "        tf.summary.scalar(METRIC_MAPE, mape, step=1)"
   ]
  },
  {
   "cell_type": "code",
   "execution_count": 15,
   "metadata": {},
   "outputs": [
    {
     "name": "stdout",
     "output_type": "stream",
     "text": [
      "--- Starting trial: peeps-run-0\n",
      "{'num_lstm': 200, 'num_dense': 100}\n"
     ]
    }
   ],
   "source": [
    "session_num = 0\n",
    " \n",
    "for num_lstm in HP_LSTM_UNITS.domain.values:\n",
    "    for num_dense in HP_DENSE_UNITS.domain.values:\n",
    "        hparams = {\n",
    "          HP_LSTM_UNITS: num_lstm,\n",
    "          HP_DENSE_UNITS: num_dense,  \n",
    "        }\n",
    "        run_name = \"peeps-run-%d\" % session_num\n",
    "        print('--- Starting trial: %s' % run_name)\n",
    "        print({h.name: hparams[h] for h in hparams})\n",
    "        run('logs/hparam_tuning/' + run_name, hparams, peeps)\n",
    "        session_num += 1"
   ]
  },
  {
   "cell_type": "code",
   "execution_count": 20,
   "metadata": {
    "scrolled": false
   },
   "outputs": [
    {
     "data": {
      "text/html": [
       "\n",
       "      <iframe id=\"tensorboard-frame-2d430028b8693fb9\" width=\"100%\" height=\"800\" frameborder=\"0\">\n",
       "      </iframe>\n",
       "      <script>\n",
       "        (function() {\n",
       "          const frame = document.getElementById(\"tensorboard-frame-2d430028b8693fb9\");\n",
       "          const url = new URL(\"/\", window.location);\n",
       "          url.port = 6006;\n",
       "          frame.src = url;\n",
       "        })();\n",
       "      </script>\n",
       "  "
      ],
      "text/plain": [
       "<IPython.core.display.HTML object>"
      ]
     },
     "metadata": {},
     "output_type": "display_data"
    }
   ],
   "source": [
    "%tensorboard --logdir logs/hparam_tuning"
   ]
  },
  {
   "cell_type": "markdown",
   "metadata": {},
   "source": [
    "## Leon"
   ]
  },
  {
   "cell_type": "code",
   "execution_count": null,
   "metadata": {},
   "outputs": [],
   "source": [
    "rm -rf ./logs/"
   ]
  },
  {
   "cell_type": "code",
   "execution_count": null,
   "metadata": {},
   "outputs": [],
   "source": [
    "session_num = 0\n",
    " \n",
    "for num_lstm in HP_LSTM_UNITS.domain.values:\n",
    "    for num_dense in HP_DENSE_UNITS.domain.values:\n",
    "        hparams = {\n",
    "          HP_LSTM_UNITS: num_lstm,\n",
    "          HP_DENSE_UNITS: num_dense,  \n",
    "        }\n",
    "        run_name = \"leon-run-%d\" % session_num\n",
    "        print('--- Starting trial: %s' % run_name)\n",
    "        print({h.name: hparams[h] for h in hparams})\n",
    "        run('logs/hparam_tuning/' + run_name, hparams, leon)\n",
    "        session_num += 1"
   ]
  },
  {
   "cell_type": "code",
   "execution_count": null,
   "metadata": {},
   "outputs": [],
   "source": [
    "%tensorboard --logdir logs/hparam_tuning"
   ]
  },
  {
   "cell_type": "markdown",
   "metadata": {},
   "source": [
    "## Guadalajara "
   ]
  },
  {
   "cell_type": "code",
   "execution_count": 18,
   "metadata": {},
   "outputs": [],
   "source": [
    "rm -rf ./logs/"
   ]
  },
  {
   "cell_type": "code",
   "execution_count": 11,
   "metadata": {
    "scrolled": true
   },
   "outputs": [
    {
     "name": "stdout",
     "output_type": "stream",
     "text": [
      "--- Starting trial: guadalajara-run-0\n",
      "{'num_lstm': 200, 'num_dense': 10}\n"
     ]
    }
   ],
   "source": [
    "session_num = 0\n",
    " \n",
    "for num_lstm in HP_LSTM_UNITS.domain.values:\n",
    "    for num_dense in HP_DENSE_UNITS.domain.values:\n",
    "        hparams = {\n",
    "          HP_LSTM_UNITS: num_lstm,\n",
    "          HP_DENSE_UNITS: num_dense,  \n",
    "        }\n",
    "        run_name = \"guadalajara-run-%d\" % session_num\n",
    "        print('--- Starting trial: %s' % run_name)\n",
    "        print({h.name: hparams[h] for h in hparams})\n",
    "        run('logs/hparam_tuning/' + run_name, hparams, guadalajara)\n",
    "        session_num += 1"
   ]
  },
  {
   "cell_type": "code",
   "execution_count": 12,
   "metadata": {},
   "outputs": [
    {
     "data": {
      "text/html": [
       "\n",
       "      <iframe id=\"tensorboard-frame-c2fa845eb1b1f8a6\" width=\"100%\" height=\"800\" frameborder=\"0\">\n",
       "      </iframe>\n",
       "      <script>\n",
       "        (function() {\n",
       "          const frame = document.getElementById(\"tensorboard-frame-c2fa845eb1b1f8a6\");\n",
       "          const url = new URL(\"/\", window.location);\n",
       "          url.port = 6006;\n",
       "          frame.src = url;\n",
       "        })();\n",
       "      </script>\n",
       "  "
      ],
      "text/plain": [
       "<IPython.core.display.HTML object>"
      ]
     },
     "metadata": {},
     "output_type": "display_data"
    }
   ],
   "source": [
    "%tensorboard --logdir logs/hparam_tuning"
   ]
  }
 ],
 "metadata": {
  "kernelspec": {
   "display_name": "Python 3",
   "language": "python",
   "name": "python3"
  },
  "language_info": {
   "codemirror_mode": {
    "name": "ipython",
    "version": 3
   },
   "file_extension": ".py",
   "mimetype": "text/x-python",
   "name": "python",
   "nbconvert_exporter": "python",
   "pygments_lexer": "ipython3",
   "version": "3.7.9"
  },
  "toc": {
   "base_numbering": 1,
   "nav_menu": {},
   "number_sections": true,
   "sideBar": true,
   "skip_h1_title": false,
   "title_cell": "Table of Contents",
   "title_sidebar": "Contents",
   "toc_cell": false,
   "toc_position": {
    "height": "calc(100% - 180px)",
    "left": "10px",
    "top": "150px",
    "width": "288px"
   },
   "toc_section_display": true,
   "toc_window_display": true
  }
 },
 "nbformat": 4,
 "nbformat_minor": 4
}
