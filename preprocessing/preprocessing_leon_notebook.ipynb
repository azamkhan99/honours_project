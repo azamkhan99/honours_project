{
 "cells": [
  {
   "cell_type": "markdown",
   "metadata": {},
   "source": [
    "# Importing *"
   ]
  },
  {
   "cell_type": "code",
   "execution_count": 1,
   "metadata": {},
   "outputs": [
    {
     "name": "stdout",
     "output_type": "stream",
     "text": [
      "INFO: Pandarallel will run on 8 workers.\n",
      "INFO: Pandarallel will use standard multiprocessing data transfer (pipe) to transfer data between the main process and workers.\n"
     ]
    }
   ],
   "source": [
    "from preprocessing_leon_helpers import *"
   ]
  },
  {
   "cell_type": "markdown",
   "metadata": {},
   "source": [
    "# Static Files"
   ]
  },
  {
   "cell_type": "markdown",
   "metadata": {},
   "source": [
    "## Loading Static Files"
   ]
  },
  {
   "cell_type": "code",
   "execution_count": 2,
   "metadata": {},
   "outputs": [],
   "source": [
    "leon_sensors = pd.read_csv(\"leon_sensors.csv\")\n",
    "leon_sensors = leon_sensors.set_index(\"UUID\")"
   ]
  },
  {
   "cell_type": "code",
   "execution_count": 3,
   "metadata": {
    "scrolled": true
   },
   "outputs": [
    {
     "name": "stdout",
     "output_type": "stream",
     "text": [
      "Loading file: /Users/azamkhan/speckled/Mexico/Calibrated Data/leon/MXX102_leon_calibrated.xlsx\n",
      "Skipped file because it doesn't exist\n",
      "Loading file: /Users/azamkhan/speckled/Mexico/Calibrated Data/leon/MXX103_leon_calibrated.xlsx\n",
      "Skipped file because it doesn't exist\n",
      "Loading file: /Users/azamkhan/speckled/Mexico/Calibrated Data/leon/Unknown_leon_calibrated.xlsx\n",
      "Skipped file because it doesn't exist\n",
      "Loading file: /Users/azamkhan/speckled/Mexico/Calibrated Data/leon/229B8913D6A5B970_leon_calibrated.xlsx\n",
      "Loading file: /Users/azamkhan/speckled/Mexico/Calibrated Data/leon/AE93FD8053BFDDFD_leon_calibrated.xlsx\n",
      "Loading file: /Users/azamkhan/speckled/Mexico/Calibrated Data/leon/FD368D7D6B815C1B_leon_calibrated.xlsx\n",
      "Loading file: /Users/azamkhan/speckled/Mexico/Calibrated Data/leon/3AB8A58A952B89B6_leon_calibrated.xlsx\n",
      "Loading file: /Users/azamkhan/speckled/Mexico/Calibrated Data/leon/3BC10C97D2490E7B_leon_calibrated.xlsx\n",
      "Loading file: /Users/azamkhan/speckled/Mexico/Calibrated Data/leon/DA1F257AD20C85A7_leon_calibrated.xlsx\n",
      "Loading file: /Users/azamkhan/speckled/Mexico/Calibrated Data/leon/Unknown_leon_calibrated.xlsx\n",
      "Skipped file because it doesn't exist\n",
      "Loading file: /Users/azamkhan/speckled/Mexico/Calibrated Data/leon/229B8913D6A5B970_leon_calibrated.xlsx\n",
      "Loading file: /Users/azamkhan/speckled/Mexico/Calibrated Data/leon/AE93FD8053BFDDFD_leon_calibrated.xlsx\n",
      "Loading file: /Users/azamkhan/speckled/Mexico/Calibrated Data/leon/FD368D7D6B815C1B_leon_calibrated.xlsx\n",
      "Loading file: /Users/azamkhan/speckled/Mexico/Calibrated Data/leon/3AB8A58A952B89B6_leon_calibrated.xlsx\n",
      "Loading file: /Users/azamkhan/speckled/Mexico/Calibrated Data/leon/3BC10C97D2490E7B_leon_calibrated.xlsx\n",
      "Loading file: /Users/azamkhan/speckled/Mexico/Calibrated Data/leon/DA1F257AD20C85A7_leon_calibrated.xlsx\n",
      "Loading file: /Users/azamkhan/speckled/Mexico/Calibrated Data/leon/MIX001_leon_calibrated.xlsx\n",
      "Skipped file because it doesn't exist\n",
      "Loading file: /Users/azamkhan/speckled/Mexico/Calibrated Data/leon/MIX002_leon_calibrated.xlsx\n",
      "Skipped file because it doesn't exist\n",
      "Loading file: /Users/azamkhan/speckled/Mexico/Calibrated Data/leon/MIX003_leon_calibrated.xlsx\n",
      "Skipped file because it doesn't exist\n"
     ]
    }
   ],
   "source": [
    "leon_static_df = loading_leon_static()"
   ]
  },
  {
   "cell_type": "markdown",
   "metadata": {},
   "source": [
    "## Preprocessing static files"
   ]
  },
  {
   "cell_type": "code",
   "execution_count": 5,
   "metadata": {},
   "outputs": [],
   "source": [
    "static_leon = preprocessing_leon_static(leon_static_df)"
   ]
  },
  {
   "cell_type": "code",
   "execution_count": 6,
   "metadata": {},
   "outputs": [
    {
     "data": {
      "text/html": [
       "<div>\n",
       "<style scoped>\n",
       "    .dataframe tbody tr th:only-of-type {\n",
       "        vertical-align: middle;\n",
       "    }\n",
       "\n",
       "    .dataframe tbody tr th {\n",
       "        vertical-align: top;\n",
       "    }\n",
       "\n",
       "    .dataframe thead th {\n",
       "        text-align: right;\n",
       "    }\n",
       "</style>\n",
       "<table border=\"1\" class=\"dataframe\">\n",
       "  <thead>\n",
       "    <tr style=\"text-align: right;\">\n",
       "      <th></th>\n",
       "      <th>timestamp</th>\n",
       "      <th>pm2_5</th>\n",
       "      <th>hour_of_day</th>\n",
       "      <th>day_of_week</th>\n",
       "      <th>temperature</th>\n",
       "      <th>humidity</th>\n",
       "      <th>gpsLongitude</th>\n",
       "      <th>gpsLatitude</th>\n",
       "      <th>UUID</th>\n",
       "    </tr>\n",
       "  </thead>\n",
       "  <tbody>\n",
       "    <tr>\n",
       "      <th>0</th>\n",
       "      <td>2019-10-16 12:31:44-05:00</td>\n",
       "      <td>8.011646</td>\n",
       "      <td>12.0</td>\n",
       "      <td>2</td>\n",
       "      <td>96.2</td>\n",
       "      <td>38.7</td>\n",
       "      <td>-101.680244</td>\n",
       "      <td>21.133865</td>\n",
       "      <td>229B8913D6A5B970</td>\n",
       "    </tr>\n",
       "    <tr>\n",
       "      <th>1</th>\n",
       "      <td>2019-10-16 12:35:44-05:00</td>\n",
       "      <td>12.289874</td>\n",
       "      <td>12.0</td>\n",
       "      <td>2</td>\n",
       "      <td>96.2</td>\n",
       "      <td>38.7</td>\n",
       "      <td>-101.680244</td>\n",
       "      <td>21.133865</td>\n",
       "      <td>229B8913D6A5B970</td>\n",
       "    </tr>\n",
       "    <tr>\n",
       "      <th>2</th>\n",
       "      <td>2019-10-16 12:39:44-05:00</td>\n",
       "      <td>9.602310</td>\n",
       "      <td>12.0</td>\n",
       "      <td>2</td>\n",
       "      <td>29.1</td>\n",
       "      <td>37.5</td>\n",
       "      <td>-101.680244</td>\n",
       "      <td>21.133865</td>\n",
       "      <td>229B8913D6A5B970</td>\n",
       "    </tr>\n",
       "    <tr>\n",
       "      <th>3</th>\n",
       "      <td>2019-10-16 12:43:44-05:00</td>\n",
       "      <td>9.429793</td>\n",
       "      <td>12.0</td>\n",
       "      <td>2</td>\n",
       "      <td>29.1</td>\n",
       "      <td>36.9</td>\n",
       "      <td>-101.680244</td>\n",
       "      <td>21.133865</td>\n",
       "      <td>229B8913D6A5B970</td>\n",
       "    </tr>\n",
       "    <tr>\n",
       "      <th>4</th>\n",
       "      <td>2019-10-16 12:47:44-05:00</td>\n",
       "      <td>9.041716</td>\n",
       "      <td>12.0</td>\n",
       "      <td>2</td>\n",
       "      <td>28.9</td>\n",
       "      <td>36.7</td>\n",
       "      <td>-101.680244</td>\n",
       "      <td>21.133865</td>\n",
       "      <td>229B8913D6A5B970</td>\n",
       "    </tr>\n",
       "    <tr>\n",
       "      <th>...</th>\n",
       "      <td>...</td>\n",
       "      <td>...</td>\n",
       "      <td>...</td>\n",
       "      <td>...</td>\n",
       "      <td>...</td>\n",
       "      <td>...</td>\n",
       "      <td>...</td>\n",
       "      <td>...</td>\n",
       "      <td>...</td>\n",
       "    </tr>\n",
       "    <tr>\n",
       "      <th>235435</th>\n",
       "      <td>2019-12-18 04:21:10-06:00</td>\n",
       "      <td>36.786537</td>\n",
       "      <td>4.0</td>\n",
       "      <td>2</td>\n",
       "      <td>17.2</td>\n",
       "      <td>43.2</td>\n",
       "      <td>-101.634674</td>\n",
       "      <td>21.101772</td>\n",
       "      <td>DA1F257AD20C85A7</td>\n",
       "    </tr>\n",
       "    <tr>\n",
       "      <th>235436</th>\n",
       "      <td>2019-12-18 04:25:10-06:00</td>\n",
       "      <td>40.922695</td>\n",
       "      <td>4.0</td>\n",
       "      <td>2</td>\n",
       "      <td>17.1</td>\n",
       "      <td>43.1</td>\n",
       "      <td>-101.634674</td>\n",
       "      <td>21.101786</td>\n",
       "      <td>DA1F257AD20C85A7</td>\n",
       "    </tr>\n",
       "    <tr>\n",
       "      <th>235437</th>\n",
       "      <td>2019-12-18 04:29:10-06:00</td>\n",
       "      <td>34.714682</td>\n",
       "      <td>4.0</td>\n",
       "      <td>2</td>\n",
       "      <td>17.1</td>\n",
       "      <td>43.1</td>\n",
       "      <td>-101.634674</td>\n",
       "      <td>21.101786</td>\n",
       "      <td>DA1F257AD20C85A7</td>\n",
       "    </tr>\n",
       "    <tr>\n",
       "      <th>235438</th>\n",
       "      <td>2019-12-18 04:33:10-06:00</td>\n",
       "      <td>31.660789</td>\n",
       "      <td>4.0</td>\n",
       "      <td>2</td>\n",
       "      <td>17.7</td>\n",
       "      <td>42.5</td>\n",
       "      <td>-101.634674</td>\n",
       "      <td>21.101786</td>\n",
       "      <td>DA1F257AD20C85A7</td>\n",
       "    </tr>\n",
       "    <tr>\n",
       "      <th>235439</th>\n",
       "      <td>2019-12-18 04:37:10-06:00</td>\n",
       "      <td>34.772324</td>\n",
       "      <td>4.0</td>\n",
       "      <td>2</td>\n",
       "      <td>18.3</td>\n",
       "      <td>41.9</td>\n",
       "      <td>-101.634674</td>\n",
       "      <td>21.101786</td>\n",
       "      <td>DA1F257AD20C85A7</td>\n",
       "    </tr>\n",
       "  </tbody>\n",
       "</table>\n",
       "<p>235440 rows × 9 columns</p>\n",
       "</div>"
      ],
      "text/plain": [
       "                       timestamp      pm2_5  hour_of_day day_of_week  \\\n",
       "0      2019-10-16 12:31:44-05:00   8.011646         12.0           2   \n",
       "1      2019-10-16 12:35:44-05:00  12.289874         12.0           2   \n",
       "2      2019-10-16 12:39:44-05:00   9.602310         12.0           2   \n",
       "3      2019-10-16 12:43:44-05:00   9.429793         12.0           2   \n",
       "4      2019-10-16 12:47:44-05:00   9.041716         12.0           2   \n",
       "...                          ...        ...          ...         ...   \n",
       "235435 2019-12-18 04:21:10-06:00  36.786537          4.0           2   \n",
       "235436 2019-12-18 04:25:10-06:00  40.922695          4.0           2   \n",
       "235437 2019-12-18 04:29:10-06:00  34.714682          4.0           2   \n",
       "235438 2019-12-18 04:33:10-06:00  31.660789          4.0           2   \n",
       "235439 2019-12-18 04:37:10-06:00  34.772324          4.0           2   \n",
       "\n",
       "        temperature  humidity  gpsLongitude  gpsLatitude              UUID  \n",
       "0              96.2      38.7   -101.680244    21.133865  229B8913D6A5B970  \n",
       "1              96.2      38.7   -101.680244    21.133865  229B8913D6A5B970  \n",
       "2              29.1      37.5   -101.680244    21.133865  229B8913D6A5B970  \n",
       "3              29.1      36.9   -101.680244    21.133865  229B8913D6A5B970  \n",
       "4              28.9      36.7   -101.680244    21.133865  229B8913D6A5B970  \n",
       "...             ...       ...           ...          ...               ...  \n",
       "235435         17.2      43.2   -101.634674    21.101772  DA1F257AD20C85A7  \n",
       "235436         17.1      43.1   -101.634674    21.101786  DA1F257AD20C85A7  \n",
       "235437         17.1      43.1   -101.634674    21.101786  DA1F257AD20C85A7  \n",
       "235438         17.7      42.5   -101.634674    21.101786  DA1F257AD20C85A7  \n",
       "235439         18.3      41.9   -101.634674    21.101786  DA1F257AD20C85A7  \n",
       "\n",
       "[235440 rows x 9 columns]"
      ]
     },
     "execution_count": 6,
     "metadata": {},
     "output_type": "execute_result"
    }
   ],
   "source": [
    "static_leon"
   ]
  },
  {
   "cell_type": "code",
   "execution_count": 6,
   "metadata": {},
   "outputs": [],
   "source": [
    "#Save preprocessed static dataframe\n",
    "static_leon.to_csv(\"leon_stationary.csv\")"
   ]
  },
  {
   "cell_type": "markdown",
   "metadata": {},
   "source": [
    "# Personal Files"
   ]
  },
  {
   "cell_type": "markdown",
   "metadata": {},
   "source": [
    "## Loading Personal Files"
   ]
  },
  {
   "cell_type": "code",
   "execution_count": 7,
   "metadata": {
    "scrolled": true
   },
   "outputs": [
    {
     "name": "stdout",
     "output_type": "stream",
     "text": [
      "Loading file: /Users/azamkhan/speckled/Mexico/Calibrated Data/leon/MXX101_leon_2019-10-21_calibrated_raw.xlsx\n",
      "Loading file: /Users/azamkhan/speckled/Mexico/Calibrated Data/leon/MXX102_leon_2019-10-21_calibrated_raw.xlsx\n",
      "Loading file: /Users/azamkhan/speckled/Mexico/Calibrated Data/leon/MXX103_leon_2019-10-21_calibrated_raw.xlsx\n",
      "Loading file: /Users/azamkhan/speckled/Mexico/Calibrated Data/leon/MXX101_leon_2019-10-22_calibrated_raw.xlsx\n",
      "Loading file: /Users/azamkhan/speckled/Mexico/Calibrated Data/leon/MXX102_leon_2019-10-22_calibrated_raw.xlsx\n",
      "Loading file: /Users/azamkhan/speckled/Mexico/Calibrated Data/leon/MXX103_leon_2019-10-22_calibrated_raw.xlsx\n",
      "Loading file: /Users/azamkhan/speckled/Mexico/Calibrated Data/leon/MXX101_leon_2019-10-23_calibrated_raw.xlsx\n",
      "Loading file: /Users/azamkhan/speckled/Mexico/Calibrated Data/leon/MXX102_leon_2019-10-23_calibrated_raw.xlsx\n",
      "Loading file: /Users/azamkhan/speckled/Mexico/Calibrated Data/leon/MXX103_leon_2019-10-23_calibrated_raw.xlsx\n",
      "Loading file: /Users/azamkhan/speckled/Mexico/Calibrated Data/leon/MXX101_leon_2019-10-24_calibrated_raw.xlsx\n",
      "Loading file: /Users/azamkhan/speckled/Mexico/Calibrated Data/leon/MXX102_leon_2019-10-24_calibrated_raw.xlsx\n",
      "Loading file: /Users/azamkhan/speckled/Mexico/Calibrated Data/leon/MXX103_leon_2019-10-24_calibrated_raw.xlsx\n",
      "Loading file: /Users/azamkhan/speckled/Mexico/Calibrated Data/leon/MXX101_leon_2019-10-25_calibrated_raw.xlsx\n",
      "Loading file: /Users/azamkhan/speckled/Mexico/Calibrated Data/leon/MXX102_leon_2019-10-25_calibrated_raw.xlsx\n",
      "Loading file: /Users/azamkhan/speckled/Mexico/Calibrated Data/leon/MXX103_leon_2019-10-25_calibrated_raw.xlsx\n",
      "Loading file: /Users/azamkhan/speckled/Mexico/Calibrated Data/leon/MXX101_leon_2019-10-28_calibrated_raw.xlsx\n",
      "Loading file: /Users/azamkhan/speckled/Mexico/Calibrated Data/leon/MXX102_leon_2019-10-28_calibrated_raw.xlsx\n",
      "Loading file: /Users/azamkhan/speckled/Mexico/Calibrated Data/leon/MXX103_leon_2019-10-28_calibrated_raw.xlsx\n",
      "Loading file: /Users/azamkhan/speckled/Mexico/Calibrated Data/leon/MXX101_leon_2019-10-29_calibrated_raw.xlsx\n",
      "Loading file: /Users/azamkhan/speckled/Mexico/Calibrated Data/leon/MXX102_leon_2019-10-29_calibrated_raw.xlsx\n",
      "Loading file: /Users/azamkhan/speckled/Mexico/Calibrated Data/leon/MXX103_leon_2019-10-29_calibrated_raw.xlsx\n",
      "Loading file: /Users/azamkhan/speckled/Mexico/Calibrated Data/leon/MXX101_leon_2019-10-30_calibrated_raw.xlsx\n",
      "Loading file: /Users/azamkhan/speckled/Mexico/Calibrated Data/leon/MXX102_leon_2019-10-30_calibrated_raw.xlsx\n",
      "Loading file: /Users/azamkhan/speckled/Mexico/Calibrated Data/leon/MXX103_leon_2019-10-30_calibrated_raw.xlsx\n",
      "Loading file: /Users/azamkhan/speckled/Mexico/Calibrated Data/leon/MXX101_leon_2019-10-31_calibrated_raw.xlsx\n",
      "Loading file: /Users/azamkhan/speckled/Mexico/Calibrated Data/leon/MXX102_leon_2019-10-31_calibrated_raw.xlsx\n",
      "Loading file: /Users/azamkhan/speckled/Mexico/Calibrated Data/leon/MXX103_leon_2019-10-31_calibrated_raw.xlsx\n",
      "Loading file: /Users/azamkhan/speckled/Mexico/Calibrated Data/leon/MXX101_leon_2019-11-01_calibrated_raw.xlsx\n",
      "Loading file: /Users/azamkhan/speckled/Mexico/Calibrated Data/leon/MXX102_leon_2019-11-01_calibrated_raw.xlsx\n",
      "Loading file: /Users/azamkhan/speckled/Mexico/Calibrated Data/leon/MXX103_leon_2019-11-01_calibrated_raw.xlsx\n",
      "Loading file: /Users/azamkhan/speckled/Mexico/Calibrated Data/leon/MXX101_leon_2019-11-04_calibrated_raw.xlsx\n",
      "Loading file: /Users/azamkhan/speckled/Mexico/Calibrated Data/leon/MXX102_leon_2019-11-04_calibrated_raw.xlsx\n",
      "Loading file: /Users/azamkhan/speckled/Mexico/Calibrated Data/leon/MXX103_leon_2019-11-04_calibrated_raw.xlsx\n",
      "Loading file: /Users/azamkhan/speckled/Mexico/Calibrated Data/leon/MXX101_leon_2019-11-05_calibrated_raw.xlsx\n",
      "Loading file: /Users/azamkhan/speckled/Mexico/Calibrated Data/leon/MXX102_leon_2019-11-05_calibrated_raw.xlsx\n",
      "Loading file: /Users/azamkhan/speckled/Mexico/Calibrated Data/leon/MXX103_leon_2019-11-05_calibrated_raw.xlsx\n",
      "Loading file: /Users/azamkhan/speckled/Mexico/Calibrated Data/leon/MXX101_leon_2019-11-06_calibrated_raw.xlsx\n",
      "Loading file: /Users/azamkhan/speckled/Mexico/Calibrated Data/leon/MXX102_leon_2019-11-06_calibrated_raw.xlsx\n",
      "Loading file: /Users/azamkhan/speckled/Mexico/Calibrated Data/leon/MXX103_leon_2019-11-06_calibrated_raw.xlsx\n",
      "Loading file: /Users/azamkhan/speckled/Mexico/Calibrated Data/leon/MXX101_leon_2019-11-07_calibrated_raw.xlsx\n",
      "Loading file: /Users/azamkhan/speckled/Mexico/Calibrated Data/leon/MXX102_leon_2019-11-07_calibrated_raw.xlsx\n",
      "Loading file: /Users/azamkhan/speckled/Mexico/Calibrated Data/leon/MXX103_leon_2019-11-07_calibrated_raw.xlsx\n",
      "Loading file: /Users/azamkhan/speckled/Mexico/Calibrated Data/leon/MXX101_leon_2019-11-08_calibrated_raw.xlsx\n",
      "Loading file: /Users/azamkhan/speckled/Mexico/Calibrated Data/leon/MXX102_leon_2019-11-08_calibrated_raw.xlsx\n",
      "Loading file: /Users/azamkhan/speckled/Mexico/Calibrated Data/leon/MXX103_leon_2019-11-08_calibrated_raw.xlsx\n",
      "Loading file: /Users/azamkhan/speckled/Mexico/Calibrated Data/leon/MXX101_leon_2019-11-11_calibrated_raw.xlsx\n",
      "Loading file: /Users/azamkhan/speckled/Mexico/Calibrated Data/leon/MXX102_leon_2019-11-11_calibrated_raw.xlsx\n",
      "Loading file: /Users/azamkhan/speckled/Mexico/Calibrated Data/leon/MXX103_leon_2019-11-11_calibrated_raw.xlsx\n",
      "Loading file: /Users/azamkhan/speckled/Mexico/Calibrated Data/leon/MXX101_leon_2019-11-12_calibrated_raw.xlsx\n",
      "Loading file: /Users/azamkhan/speckled/Mexico/Calibrated Data/leon/MXX102_leon_2019-11-12_calibrated_raw.xlsx\n",
      "Loading file: /Users/azamkhan/speckled/Mexico/Calibrated Data/leon/MXX103_leon_2019-11-12_calibrated_raw.xlsx\n",
      "Loading file: /Users/azamkhan/speckled/Mexico/Calibrated Data/leon/MXX101_leon_2019-11-13_calibrated_raw.xlsx\n",
      "Loading file: /Users/azamkhan/speckled/Mexico/Calibrated Data/leon/MXX102_leon_2019-11-13_calibrated_raw.xlsx\n",
      "Loading file: /Users/azamkhan/speckled/Mexico/Calibrated Data/leon/MXX103_leon_2019-11-13_calibrated_raw.xlsx\n",
      "Loading file: /Users/azamkhan/speckled/Mexico/Calibrated Data/leon/MXX101_leon_2019-11-14_calibrated_raw.xlsx\n",
      "Loading file: /Users/azamkhan/speckled/Mexico/Calibrated Data/leon/MXX102_leon_2019-11-14_calibrated_raw.xlsx\n",
      "Loading file: /Users/azamkhan/speckled/Mexico/Calibrated Data/leon/MXX103_leon_2019-11-14_calibrated_raw.xlsx\n",
      "Loading file: /Users/azamkhan/speckled/Mexico/Calibrated Data/leon/MXX101_leon_2019-11-15_calibrated_raw.xlsx\n",
      "Loading file: /Users/azamkhan/speckled/Mexico/Calibrated Data/leon/MXX102_leon_2019-11-15_calibrated_raw.xlsx\n",
      "Loading file: /Users/azamkhan/speckled/Mexico/Calibrated Data/leon/MXX103_leon_2019-11-15_calibrated_raw.xlsx\n",
      "Loading file: /Users/azamkhan/speckled/Mexico/Calibrated Data/leon/MXX101_leon_2019-11-18_calibrated_raw.xlsx\n",
      "Loading file: /Users/azamkhan/speckled/Mexico/Calibrated Data/leon/MXX102_leon_2019-11-18_calibrated_raw.xlsx\n",
      "Loading file: /Users/azamkhan/speckled/Mexico/Calibrated Data/leon/MXX103_leon_2019-11-18_calibrated_raw.xlsx\n",
      "Loading file: /Users/azamkhan/speckled/Mexico/Calibrated Data/leon/MXX101_leon_2019-11-19_calibrated_raw.xlsx\n",
      "Loading file: /Users/azamkhan/speckled/Mexico/Calibrated Data/leon/MXX102_leon_2019-11-19_calibrated_raw.xlsx\n",
      "Loading file: /Users/azamkhan/speckled/Mexico/Calibrated Data/leon/MXX103_leon_2019-11-19_calibrated_raw.xlsx\n",
      "Loading file: /Users/azamkhan/speckled/Mexico/Calibrated Data/leon/MXX101_leon_2019-11-20_calibrated_raw.xlsx\n",
      "Loading file: /Users/azamkhan/speckled/Mexico/Calibrated Data/leon/MXX102_leon_2019-11-20_calibrated_raw.xlsx\n",
      "Loading file: /Users/azamkhan/speckled/Mexico/Calibrated Data/leon/MXX103_leon_2019-11-20_calibrated_raw.xlsx\n",
      "Loading file: /Users/azamkhan/speckled/Mexico/Calibrated Data/leon/MXX101_leon_2019-11-21_calibrated_raw.xlsx\n",
      "Loading file: /Users/azamkhan/speckled/Mexico/Calibrated Data/leon/MXX102_leon_2019-11-21_calibrated_raw.xlsx\n",
      "Loading file: /Users/azamkhan/speckled/Mexico/Calibrated Data/leon/MXX103_leon_2019-11-21_calibrated_raw.xlsx\n",
      "Loading file: /Users/azamkhan/speckled/Mexico/Calibrated Data/leon/MXX101_leon_2019-11-22_calibrated_raw.xlsx\n",
      "Loading file: /Users/azamkhan/speckled/Mexico/Calibrated Data/leon/MXX102_leon_2019-11-22_calibrated_raw.xlsx\n",
      "Loading file: /Users/azamkhan/speckled/Mexico/Calibrated Data/leon/MXX103_leon_2019-11-22_calibrated_raw.xlsx\n"
     ]
    },
    {
     "name": "stdout",
     "output_type": "stream",
     "text": [
      "Loading file: /Users/azamkhan/speckled/Mexico/Calibrated Data/leon/MXX101_leon_2019-11-25_calibrated_raw.xlsx\n",
      "Loading file: /Users/azamkhan/speckled/Mexico/Calibrated Data/leon/MXX102_leon_2019-11-25_calibrated_raw.xlsx\n",
      "Loading file: /Users/azamkhan/speckled/Mexico/Calibrated Data/leon/MXX103_leon_2019-11-25_calibrated_raw.xlsx\n",
      "Loading file: /Users/azamkhan/speckled/Mexico/Calibrated Data/leon/MXX101_leon_2019-11-26_calibrated_raw.xlsx\n",
      "Loading file: /Users/azamkhan/speckled/Mexico/Calibrated Data/leon/MXX102_leon_2019-11-26_calibrated_raw.xlsx\n",
      "Loading file: /Users/azamkhan/speckled/Mexico/Calibrated Data/leon/MXX103_leon_2019-11-26_calibrated_raw.xlsx\n",
      "Loading file: /Users/azamkhan/speckled/Mexico/Calibrated Data/leon/MXX101_leon_2019-11-27_calibrated_raw.xlsx\n",
      "Loading file: /Users/azamkhan/speckled/Mexico/Calibrated Data/leon/MXX102_leon_2019-11-27_calibrated_raw.xlsx\n",
      "Loading file: /Users/azamkhan/speckled/Mexico/Calibrated Data/leon/MXX103_leon_2019-11-27_calibrated_raw.xlsx\n",
      "Loading file: /Users/azamkhan/speckled/Mexico/Calibrated Data/leon/MXX101_leon_2019-11-28_calibrated_raw.xlsx\n",
      "Loading file: /Users/azamkhan/speckled/Mexico/Calibrated Data/leon/MXX102_leon_2019-11-28_calibrated_raw.xlsx\n",
      "Loading file: /Users/azamkhan/speckled/Mexico/Calibrated Data/leon/MXX103_leon_2019-11-28_calibrated_raw.xlsx\n",
      "Loading file: /Users/azamkhan/speckled/Mexico/Calibrated Data/leon/MXX101_leon_2019-11-29_calibrated_raw.xlsx\n",
      "Loading file: /Users/azamkhan/speckled/Mexico/Calibrated Data/leon/MXX102_leon_2019-11-29_calibrated_raw.xlsx\n",
      "Loading file: /Users/azamkhan/speckled/Mexico/Calibrated Data/leon/MXX103_leon_2019-11-29_calibrated_raw.xlsx\n",
      "Loading file: /Users/azamkhan/speckled/Mexico/Calibrated Data/leon/MXX101_leon_2019-12-02_calibrated_raw.xlsx\n",
      "Loading file: /Users/azamkhan/speckled/Mexico/Calibrated Data/leon/MXX102_leon_2019-12-02_calibrated_raw.xlsx\n",
      "Loading file: /Users/azamkhan/speckled/Mexico/Calibrated Data/leon/MXX103_leon_2019-12-02_calibrated_raw.xlsx\n"
     ]
    }
   ],
   "source": [
    "leon_personal_df = loading_leon_personal()"
   ]
  },
  {
   "cell_type": "markdown",
   "metadata": {},
   "source": [
    "## Preprocessing personal files"
   ]
  },
  {
   "cell_type": "code",
   "execution_count": 8,
   "metadata": {},
   "outputs": [],
   "source": [
    "#Preprocessing only, outliers removed in \"mexico-cleaning.ipynb\"\n",
    "personal_leon = preprocessing_leon_personal(leon_personal_df, static_leon)"
   ]
  },
  {
   "cell_type": "code",
   "execution_count": null,
   "metadata": {},
   "outputs": [],
   "source": [
    "personal_leon.to_csv(\"leon_walk.csv\")"
   ]
  },
  {
   "cell_type": "markdown",
   "metadata": {},
   "source": [
    "# Making Spatial-T dataset"
   ]
  },
  {
   "cell_type": "code",
   "execution_count": null,
   "metadata": {},
   "outputs": [],
   "source": [
    "#This step was done after performing cleaning of dataset using \"mexico-cleaning.ipynb\" and adding road type data"
   ]
  },
  {
   "cell_type": "code",
   "execution_count": null,
   "metadata": {},
   "outputs": [],
   "source": [
    "leon_s = pd.read_csv(\"leon_stationary.csv\")"
   ]
  },
  {
   "cell_type": "code",
   "execution_count": null,
   "metadata": {},
   "outputs": [],
   "source": [
    "leon_s['timestamp'] = leon_s['timestamp'].apply(lambda x: pd.to_datetime(x).tz_convert('America/Mexico_City'))"
   ]
  },
  {
   "cell_type": "code",
   "execution_count": null,
   "metadata": {},
   "outputs": [],
   "source": [
    "leon_s = leon_s.set_index(\"timestamp\")"
   ]
  },
  {
   "cell_type": "code",
   "execution_count": null,
   "metadata": {},
   "outputs": [],
   "source": [
    "leon_s = leon_s[~leon_s.duplicated()]"
   ]
  },
  {
   "cell_type": "code",
   "execution_count": null,
   "metadata": {},
   "outputs": [],
   "source": [
    "#Use path to fully pre-processed personal leon dataset\n",
    "leon_p = pd.read_csv(\"leon_walk.csv\")"
   ]
  },
  {
   "cell_type": "code",
   "execution_count": null,
   "metadata": {},
   "outputs": [],
   "source": [
    "leon_p['timestamp'] = leon_p['timestamp'].apply(lambda x: pd.to_datetime(x).tz_convert('America/Mexico_City'))"
   ]
  },
  {
   "cell_type": "code",
   "execution_count": null,
   "metadata": {},
   "outputs": [],
   "source": [
    "def closest_pred_value(row, dataframe, window_size):\n",
    "    uuid1 = row['closest_pm_id']#.item()\n",
    "\n",
    "    \n",
    "    ts = row['timestamp']\n",
    "    date = str(ts.date())\n",
    "    pm = row['closest_pm']\n",
    "    \n",
    "    first = ts - timedelta(minutes=window_size)\n",
    "    last = ts + timedelta(minutes=0)\n",
    "    first = str(first.time())\n",
    "    last = str(last.time())\n",
    "    \n",
    "    lag = dataframe[dataframe.UUID == uuid1].loc[date].between_time(first, last)['pm2_5'].values\n",
    "    \n",
    "    if (len(lag) > 0):\n",
    "        return pd.Series([np.mean(lag[-3:]), np.mean(lag[-6:]), np.mean(lag)])\n",
    "    else:\n",
    "        return pd.Series([pm, pm, pm])"
   ]
  },
  {
   "cell_type": "code",
   "execution_count": null,
   "metadata": {},
   "outputs": [],
   "source": [
    "test = leon_p.copy()"
   ]
  },
  {
   "cell_type": "code",
   "execution_count": null,
   "metadata": {},
   "outputs": [],
   "source": [
    "test[['15min_avg', '30min_avg','60min_avg']] = test.parallel_apply(lambda row: closest_pred_value(row, leon_s, 60), axis=1)"
   ]
  },
  {
   "cell_type": "code",
   "execution_count": null,
   "metadata": {},
   "outputs": [],
   "source": [
    "test = test.rename(columns={'test': 'avg15_min'})"
   ]
  },
  {
   "cell_type": "code",
   "execution_count": null,
   "metadata": {},
   "outputs": [],
   "source": [
    "test.to_csv(\"leon_spatial_T.csv\")"
   ]
  }
 ],
 "metadata": {
  "kernelspec": {
   "display_name": "Python 3",
   "language": "python",
   "name": "python3"
  },
  "language_info": {
   "codemirror_mode": {
    "name": "ipython",
    "version": 3
   },
   "file_extension": ".py",
   "mimetype": "text/x-python",
   "name": "python",
   "nbconvert_exporter": "python",
   "pygments_lexer": "ipython3",
   "version": "3.7.9"
  },
  "toc": {
   "base_numbering": 1,
   "nav_menu": {},
   "number_sections": true,
   "sideBar": true,
   "skip_h1_title": false,
   "title_cell": "Table of Contents",
   "title_sidebar": "Contents",
   "toc_cell": false,
   "toc_position": {},
   "toc_section_display": true,
   "toc_window_display": false
  }
 },
 "nbformat": 4,
 "nbformat_minor": 4
}
