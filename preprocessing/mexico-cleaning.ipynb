{
 "cells": [
  {
   "cell_type": "code",
   "execution_count": 1,
   "metadata": {},
   "outputs": [],
   "source": [
    "%matplotlib inline\n",
    "%load_ext autoreload\n",
    "%autoreload 2\n",
    "from basic_imports import *\n",
    "import pandas\n",
    "\n",
    "from math import radians, cos, sin, asin, sqrt\n",
    "\n",
    "import folium\n",
    "import datetime\n",
    "from constants import *\n",
    "from load_files import *\n",
    "from scipy.stats import *\n",
    "from scipy import spatial\n",
    "\n",
    "import statsmodels.api as sm\n",
    "import numpy as np"
   ]
  },
  {
   "cell_type": "code",
   "execution_count": 2,
   "metadata": {},
   "outputs": [],
   "source": [
    "from sklearn.metrics import mean_squared_error, mean_absolute_error\n",
    "\n",
    "def mean_absolute_percentage_error(y_true, y_pred):\n",
    "    #y_true, y_pred = np.array(y_true), np.array(y_pred)\n",
    "    return np.mean(np.abs((y_true - y_pred) / y_true)) * 100"
   ]
  },
  {
   "cell_type": "markdown",
   "metadata": {},
   "source": [
    "# Mexico"
   ]
  },
  {
   "cell_type": "code",
   "execution_count": 4,
   "metadata": {},
   "outputs": [],
   "source": [
    "leon = pd.read_csv(\"leon_walk.csv\")\n",
    "leon['city'] = int(0)\n",
    "gdl = pd.read_csv(\"guadalajara.csv\")\n",
    "gdl['city'] = int(1)"
   ]
  },
  {
   "cell_type": "code",
   "execution_count": 5,
   "metadata": {},
   "outputs": [],
   "source": [
    "mexico = pd.concat([leon, gdl])"
   ]
  },
  {
   "cell_type": "code",
   "execution_count": 6,
   "metadata": {},
   "outputs": [],
   "source": [
    "#mexico = mexico.drop('Unnamed: 0', axis=1)"
   ]
  },
  {
   "cell_type": "code",
   "execution_count": null,
   "metadata": {},
   "outputs": [],
   "source": [
    "leon.set_index('timestamp', inplace=True)\n",
    "gdl.set_index('timestamp', inplace=True)"
   ]
  },
  {
   "cell_type": "code",
   "execution_count": 8,
   "metadata": {},
   "outputs": [],
   "source": [
    "leon = leon.sort_index()\n",
    "gdl = gdl.sort_index()"
   ]
  },
  {
   "cell_type": "code",
   "execution_count": 12,
   "metadata": {},
   "outputs": [],
   "source": [
    "from scipy import stats\n",
    "\n",
    "def drop_numerical_outliers(df, z_thresh=1.5):\n",
    "    # Constraints will contain `True` or `False` depending on if it is a value below the threshold.\n",
    "    constrains = df.select_dtypes(include=[np.number]) \\\n",
    "        .apply(lambda x: np.abs(stats.zscore(x)) < z_thresh) \\\n",
    "        .all(axis=1)\n",
    "    # Drop (inplace) values set to be rejected\n",
    "    df.drop(df.index[~constrains], inplace=True)"
   ]
  },
  {
   "cell_type": "code",
   "execution_count": 13,
   "metadata": {},
   "outputs": [],
   "source": [
    "drop_numerical_outliers(leon)"
   ]
  },
  {
   "cell_type": "code",
   "execution_count": null,
   "metadata": {},
   "outputs": [],
   "source": [
    "drop_numerical_outliers(gdl)"
   ]
  },
  {
   "cell_type": "code",
   "execution_count": 14,
   "metadata": {},
   "outputs": [
    {
     "data": {
      "text/html": [
       "<div>\n",
       "<style scoped>\n",
       "    .dataframe tbody tr th:only-of-type {\n",
       "        vertical-align: middle;\n",
       "    }\n",
       "\n",
       "    .dataframe tbody tr th {\n",
       "        vertical-align: top;\n",
       "    }\n",
       "\n",
       "    .dataframe thead th {\n",
       "        text-align: right;\n",
       "    }\n",
       "</style>\n",
       "<table border=\"1\" class=\"dataframe\">\n",
       "  <thead>\n",
       "    <tr style=\"text-align: right;\">\n",
       "      <th></th>\n",
       "      <th>pm2_5</th>\n",
       "      <th>hour_of_day</th>\n",
       "      <th>day_of_week</th>\n",
       "      <th>temperature</th>\n",
       "      <th>humidity</th>\n",
       "      <th>gpsLongitude</th>\n",
       "      <th>gpsLatitude</th>\n",
       "      <th>closest_pm</th>\n",
       "      <th>dist_to_closest_pm</th>\n",
       "      <th>city</th>\n",
       "    </tr>\n",
       "  </thead>\n",
       "  <tbody>\n",
       "    <tr>\n",
       "      <th>count</th>\n",
       "      <td>8113.000000</td>\n",
       "      <td>8113.000000</td>\n",
       "      <td>8113.000000</td>\n",
       "      <td>8113.000000</td>\n",
       "      <td>8113.000000</td>\n",
       "      <td>8113.000000</td>\n",
       "      <td>8113.000000</td>\n",
       "      <td>8113.000000</td>\n",
       "      <td>8113.000000</td>\n",
       "      <td>8113.000000</td>\n",
       "    </tr>\n",
       "    <tr>\n",
       "      <th>mean</th>\n",
       "      <td>24.452957</td>\n",
       "      <td>2.270553</td>\n",
       "      <td>2.028596</td>\n",
       "      <td>23.756890</td>\n",
       "      <td>44.232389</td>\n",
       "      <td>-102.286206</td>\n",
       "      <td>20.958658</td>\n",
       "      <td>26.418556</td>\n",
       "      <td>0.476038</td>\n",
       "      <td>0.362874</td>\n",
       "    </tr>\n",
       "    <tr>\n",
       "      <th>std</th>\n",
       "      <td>13.782117</td>\n",
       "      <td>0.801190</td>\n",
       "      <td>1.540278</td>\n",
       "      <td>1.835837</td>\n",
       "      <td>7.582662</td>\n",
       "      <td>0.804471</td>\n",
       "      <td>0.212514</td>\n",
       "      <td>12.010038</td>\n",
       "      <td>0.347511</td>\n",
       "      <td>0.480859</td>\n",
       "    </tr>\n",
       "    <tr>\n",
       "      <th>min</th>\n",
       "      <td>3.126181</td>\n",
       "      <td>1.000000</td>\n",
       "      <td>0.000000</td>\n",
       "      <td>19.000000</td>\n",
       "      <td>20.800000</td>\n",
       "      <td>-103.359569</td>\n",
       "      <td>20.669440</td>\n",
       "      <td>5.726973</td>\n",
       "      <td>0.003161</td>\n",
       "      <td>0.000000</td>\n",
       "    </tr>\n",
       "    <tr>\n",
       "      <th>25%</th>\n",
       "      <td>14.709154</td>\n",
       "      <td>2.000000</td>\n",
       "      <td>1.000000</td>\n",
       "      <td>22.550000</td>\n",
       "      <td>39.950000</td>\n",
       "      <td>-103.349753</td>\n",
       "      <td>20.678145</td>\n",
       "      <td>17.224429</td>\n",
       "      <td>0.265677</td>\n",
       "      <td>0.000000</td>\n",
       "    </tr>\n",
       "    <tr>\n",
       "      <th>50%</th>\n",
       "      <td>21.885727</td>\n",
       "      <td>2.000000</td>\n",
       "      <td>2.000000</td>\n",
       "      <td>23.700000</td>\n",
       "      <td>44.750000</td>\n",
       "      <td>-101.684937</td>\n",
       "      <td>21.115975</td>\n",
       "      <td>24.944094</td>\n",
       "      <td>0.407831</td>\n",
       "      <td>0.000000</td>\n",
       "    </tr>\n",
       "    <tr>\n",
       "      <th>75%</th>\n",
       "      <td>30.765917</td>\n",
       "      <td>3.000000</td>\n",
       "      <td>3.000000</td>\n",
       "      <td>24.900000</td>\n",
       "      <td>49.400000</td>\n",
       "      <td>-101.680868</td>\n",
       "      <td>21.120718</td>\n",
       "      <td>33.435388</td>\n",
       "      <td>0.566062</td>\n",
       "      <td>1.000000</td>\n",
       "    </tr>\n",
       "    <tr>\n",
       "      <th>max</th>\n",
       "      <td>99.814902</td>\n",
       "      <td>4.000000</td>\n",
       "      <td>6.000000</td>\n",
       "      <td>30.400000</td>\n",
       "      <td>66.850003</td>\n",
       "      <td>-101.653436</td>\n",
       "      <td>21.126571</td>\n",
       "      <td>68.404765</td>\n",
       "      <td>2.216757</td>\n",
       "      <td>1.000000</td>\n",
       "    </tr>\n",
       "  </tbody>\n",
       "</table>\n",
       "</div>"
      ],
      "text/plain": [
       "             pm2_5  hour_of_day  day_of_week  temperature     humidity  \\\n",
       "count  8113.000000  8113.000000  8113.000000  8113.000000  8113.000000   \n",
       "mean     24.452957     2.270553     2.028596    23.756890    44.232389   \n",
       "std      13.782117     0.801190     1.540278     1.835837     7.582662   \n",
       "min       3.126181     1.000000     0.000000    19.000000    20.800000   \n",
       "25%      14.709154     2.000000     1.000000    22.550000    39.950000   \n",
       "50%      21.885727     2.000000     2.000000    23.700000    44.750000   \n",
       "75%      30.765917     3.000000     3.000000    24.900000    49.400000   \n",
       "max      99.814902     4.000000     6.000000    30.400000    66.850003   \n",
       "\n",
       "       gpsLongitude  gpsLatitude   closest_pm  dist_to_closest_pm         city  \n",
       "count   8113.000000  8113.000000  8113.000000         8113.000000  8113.000000  \n",
       "mean    -102.286206    20.958658    26.418556            0.476038     0.362874  \n",
       "std        0.804471     0.212514    12.010038            0.347511     0.480859  \n",
       "min     -103.359569    20.669440     5.726973            0.003161     0.000000  \n",
       "25%     -103.349753    20.678145    17.224429            0.265677     0.000000  \n",
       "50%     -101.684937    21.115975    24.944094            0.407831     0.000000  \n",
       "75%     -101.680868    21.120718    33.435388            0.566062     1.000000  \n",
       "max     -101.653436    21.126571    68.404765            2.216757     1.000000  "
      ]
     },
     "execution_count": 14,
     "metadata": {},
     "output_type": "execute_result"
    }
   ],
   "source": [
    "leon.describe()"
   ]
  },
  {
   "cell_type": "code",
   "execution_count": 15,
   "metadata": {},
   "outputs": [],
   "source": [
    "leon.to_csv(\"leon_walk.csv\")"
   ]
  },
  {
   "cell_type": "code",
   "execution_count": null,
   "metadata": {},
   "outputs": [],
   "source": [
    "gdl.to_csv(\"guadalajara.csv\")"
   ]
  }
 ],
 "metadata": {
  "kernelspec": {
   "display_name": "Python 3",
   "language": "python",
   "name": "python3"
  },
  "language_info": {
   "codemirror_mode": {
    "name": "ipython",
    "version": 3
   },
   "file_extension": ".py",
   "mimetype": "text/x-python",
   "name": "python",
   "nbconvert_exporter": "python",
   "pygments_lexer": "ipython3",
   "version": "3.7.9"
  },
  "toc": {
   "base_numbering": 1,
   "nav_menu": {},
   "number_sections": true,
   "sideBar": true,
   "skip_h1_title": false,
   "title_cell": "Table of Contents",
   "title_sidebar": "Contents",
   "toc_cell": false,
   "toc_position": {},
   "toc_section_display": true,
   "toc_window_display": false
  }
 },
 "nbformat": 4,
 "nbformat_minor": 4
}
