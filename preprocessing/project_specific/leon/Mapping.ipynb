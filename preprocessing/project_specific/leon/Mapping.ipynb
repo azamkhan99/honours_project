{
 "cells": [
  {
   "cell_type": "markdown",
   "metadata": {},
   "source": [
    "## Create Maps with Sensors, Polygons and Grid Data"
   ]
  },
  {
   "cell_type": "code",
   "execution_count": 1,
   "metadata": {},
   "outputs": [
    {
     "name": "stdout",
     "output_type": "stream",
     "text": [
      "60\n"
     ]
    }
   ],
   "source": [
    "import folium\n",
    "import numpy as np\n",
    "from constants import Constants\n",
    "from mapping import Mapping\n",
    "from grid_definition import GridDefinition\n",
    "import shapely\n",
    "import json\n",
    "\n",
    "grid_definition = GridDefinition()\n",
    "grid_definition.init()\n",
    "constants = Constants()\n",
    "GRID_SIZE = constants.getGridSize()\n",
    "print(GRID_SIZE)\n",
    "constants = Constants()\n",
    "mapping = Mapping()\n",
    "#map_dir = <DIRECTORY_TO_SAVE_MAP_IMAGES>"
   ]
  },
  {
   "cell_type": "markdown",
   "metadata": {},
   "source": [
    "## A Map with Leon ZBE1, ZBM, existing sensors, and study area outline"
   ]
  },
  {
   "cell_type": "code",
   "execution_count": 2,
   "metadata": {},
   "outputs": [],
   "source": [
    "mapCenter = [grid_definition.getCenterLat(), grid_definition.getCenterLon()]\n",
    "leon_overview_map = folium.Map(location=mapCenter, zoom_start=13,tiles=None, control_scale=True)\n",
    "folium.TileLayer('Stamen Toner', name='Leon Overview').add_to(leon_overview_map)\n",
    "\n",
    "feature_group1 = folium.FeatureGroup(name='Zona Baja Emission Polygon 1')\n",
    "feature_group2 = folium.FeatureGroup(name='Zona Baja Motorizacion Polygon')\n",
    "feature_group3 = folium.FeatureGroup(name='Proposed Study Area')\n",
    "feature_group4 = folium.FeatureGroup(name='Existing Sensors')\n",
    "\n",
    "ZBE_polygon_path = '../osm/ZBE_P1.geojson'\n",
    "with open(ZBE_polygon_path) as f:\n",
    "            ZBE = json.load(f)      \n",
    "        \n",
    "mapping.plotPolygon(feature_group1, ZBE, '#FF0D00')\n",
    "leon_overview_map.add_child(feature_group1)\n",
    "\n",
    "#mapping.plotPolygon(leon_overview_map, ZBE, '#FF0D00').add_to(feature_group1)\n",
    "\n",
    "ZBM_polygon_path = '../osm/Zona_Baja_Motorizacion.geojson'\n",
    "with open(ZBM_polygon_path) as f:\n",
    "            ZBM = json.load(f)\n",
    "mapping.plotPolygon(feature_group2, ZBM, '#FF8500')\n",
    "leon_overview_map.add_child(feature_group2)\n",
    "\n",
    "cells = mapping.getGeoCells()\n",
    "\n",
    "for cell_num, cell in enumerate(cells):\n",
    "    cell_multi = cell[0][\"geometry\"]\n",
    "    cell_shape = shapely.geometry.asShape(cell_multi)\n",
    "    row = int(cell_num / GRID_SIZE)\n",
    "    col = int(cell_num % GRID_SIZE)\n",
    "    if (row == 0 or row == (GRID_SIZE - 1) or col == 0 or col == (GRID_SIZE - 1)):\n",
    "    #index = int(land_use[row][col])\n",
    "        mapping.plotPolygon(feature_group3, cell_multi, '#808080')\n",
    "        leon_overview_map.add_child(feature_group3)\n",
    "\n",
    "    \n",
    "mapping.mapExistingSensors(feature_group4, 'black')\n",
    "leon_overview_map.add_child(feature_group4)\n",
    "\n",
    "leon_overview_map.add_child(folium.map.LayerControl())\n",
    "leon_overview_map.save(\"../images/maps/LeonSmallOverview.html\")\n",
    "\n",
    "#leon_overview_map"
   ]
  },
  {
   "cell_type": "code",
   "execution_count": null,
   "metadata": {},
   "outputs": [],
   "source": [
    "##Map the stationary sensors\n",
    "stationary_map = folium.Map(location=[55.943, -3.19], zoom_start=15,tiles=\"Stamen Toner\")\n",
    "mapStationarySensors(stationary_map)\n",
    "\n",
    "#stationary_map.save(map_dir + \"stationarySensors.html\")"
   ]
  },
  {
   "cell_type": "code",
   "execution_count": null,
   "metadata": {},
   "outputs": [],
   "source": [
    "## Map a data pollution collection walk\n",
    "mobile_map = folium.Map(location=[55.943, -3.19], zoom_start=15,tiles=\"Stamen Toner\")\n",
    "sid = 'XXM008' #or 'XXM007'. ID of the pollution belt that data was collected with\n",
    "mapPollutionWalk(mobile_map, start_date, sid)\n",
    "\n",
    "#mobile_map.save(map_dir + str(start_date) + \"_\" + str(sid_plot) + \".html\")"
   ]
  },
  {
   "cell_type": "code",
   "execution_count": null,
   "metadata": {},
   "outputs": [],
   "source": [
    "def mapStationarySensors(map_obj):\n",
    "    staticCoords = constants.getStaticCoords()\n",
    "    for i in range(staticCoords.shape[0]):\n",
    "        folium.CircleMarker((staticCoords[i][0], staticCoords[i][1]),\n",
    "                   radius=8,\n",
    "                    color='#000000',\n",
    "                    weight=1.0,\n",
    "                    fill_color='#000000',\n",
    "                    fill=True,\n",
    "                    fill_opacity=1,\n",
    "                   ).add_to(map_obj)\n",
    "\n",
    "def mapPollutionWalk(mapObj, start_date, sid):\n",
    "    end_date = getEndDate(start_date)\n",
    "    data_dir = \"/Users/zoepetard/Google Drive/Edinburgh/MscProj/FillingTheGaps/data/raw/personal/\"+str(start_date)+\"-\"+str(end_date)+\"/\"\n",
    "    sids = ['XXM007', 'XXM008']\n",
    "    pdata = data_downloader.readAirSpeckPCSV(start_date, end_date, data_dir)\n",
    "    belt_index = sids.index(sid)\n",
    "    \n",
    "    maxPM = np.max(pdata[belt_index][\"PM2.5\"])\n",
    "    minPM = np.min(pdata[belt_index][\"PM2.5\"])\n",
    "            \n",
    "    ##Add validation walk\n",
    "    for j in range(len(pdata[belt_index])):\n",
    "        folium.CircleMarker((pdata[belt_index][\"latitude\"][j], pdata[belt_index][\"longitude\"][j]),\n",
    "                    radius=5,\n",
    "                    color='#000000',\n",
    "                    weight=1.0,\n",
    "                    fill_color=osm_reader.assignColor(pdata[belt_index][\"PM2.5\"][j], maxPM, minPM),\n",
    "                    fill=True,\n",
    "                    fill_opacity=1.0,\n",
    "                   ).add_to(mapObj)\n",
    "\n",
    "def getEndDate(start_date):\n",
    "    return start_date + 1"
   ]
  }
 ],
 "metadata": {
  "kernelspec": {
   "display_name": "Python 3",
   "language": "python",
   "name": "python3"
  },
  "language_info": {
   "codemirror_mode": {
    "name": "ipython",
    "version": 3
   },
   "file_extension": ".py",
   "mimetype": "text/x-python",
   "name": "python",
   "nbconvert_exporter": "python",
   "pygments_lexer": "ipython3",
   "version": "3.7.4"
  }
 },
 "nbformat": 4,
 "nbformat_minor": 2
}
