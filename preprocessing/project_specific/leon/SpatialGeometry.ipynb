{
 "cells": [
  {
   "cell_type": "markdown",
   "metadata": {},
   "source": [
    "## This notebook reads OSM data and creates a grid of cells tagged by their primary land use or road type label."
   ]
  },
  {
   "cell_type": "code",
   "execution_count": 1,
   "metadata": {},
   "outputs": [
    {
     "name": "stdout",
     "output_type": "stream",
     "text": [
      "60\n",
      "0.5.0\n"
     ]
    }
   ],
   "source": [
    "import numpy as np\n",
    "import csv\n",
    "import pandas as pd\n",
    "\n",
    "from shapely.geometry import Point, MultiPolygon, Polygon#, mapping\n",
    "import shapely\n",
    "import folium\n",
    "import json\n",
    "\n",
    "from mapping import Mapping\n",
    "\n",
    "from constants import Constants\n",
    "from osm_reader import OSMReader\n",
    "from grid_definition import GridDefinition\n",
    "\n",
    "grid_definition = GridDefinition()\n",
    "grid_definition.init()\n",
    "constants = Constants()\n",
    "GRID_SIZE = constants.getGridSize()\n",
    "print(GRID_SIZE)\n",
    "mapping = Mapping()\n",
    "\n",
    "osm_reader = OSMReader()\n",
    "osm_reader.init()\n",
    "constants = Constants()\n",
    "print(folium.__version__)\n",
    "\n",
    "#Note: command to make the appropriate files\n",
    "# ogr2ogr -f GeoJSON LeonMap-lines.geojson LeonMap.osm lines"
   ]
  },
  {
   "cell_type": "markdown",
   "metadata": {},
   "source": [
    "## Retrieve road and land use classes and map them as lines and polygons, respectively"
   ]
  },
  {
   "cell_type": "code",
   "execution_count": 6,
   "metadata": {},
   "outputs": [
    {
     "name": "stdout",
     "output_type": "stream",
     "text": [
      "1415\n",
      "1361\n"
     ]
    }
   ],
   "source": [
    "mapCenter = [grid_definition.getCenterLat(), grid_definition.getCenterLon()]\n",
    "sum = 0\n",
    "\n",
    "lineFilePath = '../osm/SmallLeon-lines.geojson'\n",
    "roadGeos = osm_reader.getRoadGeoClasses(lineFilePath)\n",
    "roadType = folium.Map(location=mapCenter, zoom_start=14,tiles=\"Stamen Toner\")\n",
    "for num, roadGeo in enumerate(roadGeos):\n",
    "    sum += len(roadGeo[\"features\"])\n",
    "    osm_reader.addRoadType(roadType, roadGeo, num)\n",
    "roadType.save(\"../images/maps/LeonSmallRoadType.html\")\n",
    "print(sum)"
   ]
  },
  {
   "cell_type": "code",
   "execution_count": 7,
   "metadata": {},
   "outputs": [
    {
     "name": "stdout",
     "output_type": "stream",
     "text": [
      "532\n",
      "{'osm_id': '9093313', 'type': 'multipolygon', 'building': 'stadium'}\n",
      "{'osm_way_id': '31308870', 'name': 'Panteon San Nicolas', 'landuse': 'cemetery'}\n",
      "{'osm_way_id': '32403719', 'name': 'Alberca De la Salle', 'leisure': 'water_park', 'other_tags': '\"Colonia\"=>\"Andrade\"'}\n",
      "{'osm_way_id': '202183624', 'leisure': 'track'}\n",
      "{'osm_way_id': '230286916', 'name': 'Club Atenas', 'leisure': 'sports_centre'}\n",
      "{'osm_way_id': '347709340', 'amenity': 'parking'}\n",
      "{'osm_way_id': '347709341', 'amenity': 'parking'}\n",
      "{'osm_way_id': '376152557', 'name': 'Auditorio Mateo Herrera', 'amenity': 'theatre', 'building': 'yes'}\n",
      "{'osm_way_id': '376152558', 'name': 'Museo de Artes e Historia', 'building': 'yes', 'tourism': 'museum'}\n",
      "{'osm_way_id': '376152562', 'name': 'Teatro del Bicentenario', 'amenity': 'theatre', 'building': 'yes'}\n",
      "{'osm_way_id': '376153590', 'amenity': 'parking'}\n",
      "{'osm_way_id': '376153593', 'name': 'La Estancia Argentina', 'amenity': 'restaurant', 'building': 'yes', 'other_tags': '\"cuisine\"=>\"argentinian\"'}\n",
      "{'osm_way_id': '376153594', 'name': \"McDonald's\", 'amenity': 'fast_food', 'building': 'yes', 'other_tags': '\"brand\"=>\"McDonald\\'s\",\"brand:wikidata\"=>\"Q38076\",\"brand:wikipedia\"=>\"en:McDonald\\'s\",\"cuisine\"=>\"burger\",\"takeaway\"=>\"yes\"'}\n",
      "{'osm_way_id': '376153596', 'name': 'Holiday Inn', 'building': 'yes', 'tourism': 'hotel'}\n",
      "{'osm_way_id': '382957019', 'name': 'Central Camionera León, GTO.', 'amenity': 'bus_station', 'building': 'yes', 'other_tags': '\"opening_hours\"=>\"24/7\"'}\n",
      "{'osm_way_id': '382957020', 'name': 'Hotel Plaza estadium', 'tourism': 'hotel', 'other_tags': '\"building:levels\"=>\"6\",\"smoking\"=>\"outside\"'}\n",
      "{'osm_way_id': '446923111', 'name': 'Centro de Ciencias Explora', 'building': 'yes', 'tourism': 'museum', 'other_tags': '\"addr:city\"=>\"León\",\"addr:country\"=>\"MX\",\"addr:housenumber\"=>\"202\",\"addr:neighbourhood\"=>\"La Martinica\",\"addr:postcode\"=>\"37500\",\"addr:state\"=>\"Guanajuato\",\"addr:street\"=>\"Blvd Gral. Francisco Villa\",\"alt_name\"=>\"Museo Explora\",\"loc_name\"=>\"Explora\",\"opening_hours\"=>\"Mo off; Tu-Fr 09:00-18:00; Sa-Su 10:00-19:00\",\"website\"=>\"http://w.explora.edu.mx/\"'}\n",
      "{'osm_way_id': '446923114', 'other_tags': '\"highway\"=>\"pedestrian\"'}\n",
      "{'osm_way_id': '455178733', 'name': 'Poliforum', 'tourism': 'hotel'}\n",
      "{'osm_way_id': '461971942', 'name': 'Transportes Turisticos Del Bajio S.A. de C.V.', 'building': 'yes', 'office': 'administrative', 'other_tags': '\"addr:city\"=>\"Leon\",\"addr:housenumber\"=>\"2011-B\",\"addr:postcode\"=>\"37270\",\"addr:street\"=>\"Boulevard La Luz\",\"name_1\"=>\"TTUR\",\"opening_hours\"=>\"09:00-19:00\"'}\n",
      "{'osm_way_id': '461971944', 'name': 'Palenque De La Feria', 'building': 'yes'}\n",
      "{'osm_way_id': '463334049', 'name': 'Pension Flecha Amarilla', 'amenity': 'parking', 'other_tags': '\"access\"=>\"no\",\"capacity\"=>\"500\",\"operator\"=>\"Flecha Amarilla\",\"parking\"=>\"garage_boxes\",\"supervised\"=>\"yes\",\"surface\"=>\"asphalt\"'}\n",
      "{'osm_way_id': '552237946', 'landuse': 'religious'}\n",
      "{'osm_way_id': '552237948', 'landuse': 'religious'}\n",
      "{'osm_way_id': '561438135', 'historic': 'memorial'}\n",
      "{'osm_way_id': '658863020', 'landuse': 'brownfield'}\n",
      "{'osm_way_id': '658863021', 'amenity': 'fuel'}\n",
      "{'osm_way_id': '660343139', 'amenity': 'parking'}\n",
      "{'osm_way_id': '660343143', 'name': 'Museo de la Ciudad', 'building': 'yes', 'tourism': 'museum'}\n",
      "{'osm_way_id': '667793325', 'name': 'Foro Victoria', 'amenity': 'theatre', 'other_tags': '\"theatre:type\"=>\"amphi\"'}\n",
      "{'osm_way_id': '690894384', 'amenity': 'parking_space', 'other_tags': '\"access\"=>\"customers\"'}\n",
      "{'osm_way_id': '690894387', 'leisure': 'sports_centre'}\n",
      "{'osm_way_id': '690894388', 'leisure': 'sports_centre'}\n",
      "{'osm_way_id': '690894389', 'leisure': 'sports_centre'}\n",
      "{'osm_way_id': '690894390', 'leisure': 'sports_centre'}\n",
      "{'osm_way_id': '691758246', 'amenity': 'parking', 'other_tags': '\"parking\"=>\"surface\",\"surface\"=>\"asphalt\"'}\n",
      "Not appended sum: 36\n",
      "497\n"
     ]
    }
   ],
   "source": [
    "mapCenter = [grid_definition.getCenterLat(), grid_definition.getCenterLon()]\n",
    "\n",
    "multiPolygonFilePath = '../osm/SmallLeon-multipolygons.geojson'\n",
    "areaGeos = osm_reader.getLandGeoClasses(multiPolygonFilePath)\n",
    "\n",
    "sum = 0\n",
    "\n",
    "#print(areaGeos)\n",
    "landUse = folium.Map(location=mapCenter, zoom_start=14, tiles=\"Stamen Toner\")\n",
    "for num, areaGeo in enumerate(areaGeos):\n",
    "    #print(size(areaGeo))\n",
    "    sum += len(areaGeo[\"features\"])\n",
    "    osm_reader.addLandUse(landUse, areaGeo, num)        \n",
    "landUse.save(\"../images/maps/LeonSmallLandUse.html\")\n",
    "print(sum)"
   ]
  },
  {
   "cell_type": "code",
   "execution_count": null,
   "metadata": {},
   "outputs": [],
   "source": [
    "mapCenter = [grid_definition.getCenterLat(), grid_definition.getCenterLon()]\n",
    "\n",
    "multiPolygonFilePath = '../osm/LeonMap-multipolygons.geojson'\n",
    "with open(multiPolygonFilePath) as f:\n",
    "            shapes = json.load(f)\n",
    "features = shapes[\"features\"]\n",
    "\n",
    "areas1 = []\n",
    "\n",
    "for feature in shapes[\"features\"]:\n",
    "    if \"building\" in feature[\"properties\"]:\n",
    "        if (feature[\"properties\"][\"building\"] == \"yes\" and\n",
    "            len(feature[\"properties\"]) == 2):\n",
    "            areas1.append(feature)\n",
    "\n",
    "allLandUse = folium.Map(location=mapCenter, zoom_start=12, tiles=\"Stamen Toner\")\n",
    "\n",
    "\n",
    "#for feature in shapes[\"features\"]:\n",
    "areas1Geo = {\n",
    "            'type': 'FeatureCollection',\n",
    "            'features': areas1\n",
    "        }\n",
    "print(len(areas1Geo[\"features\"]))\n",
    "osm_reader.addLandUse(allLandUse, areas1, 4)  \n",
    "allLandUse.save(\"../images/maps/LeonYesLandUse.html\")"
   ]
  },
  {
   "cell_type": "code",
   "execution_count": null,
   "metadata": {},
   "outputs": [],
   "source": [
    "landUse"
   ]
  },
  {
   "cell_type": "code",
   "execution_count": null,
   "metadata": {
    "scrolled": true
   },
   "outputs": [],
   "source": [
    "corners = constants.getCorners()\n",
    "\n",
    "topLat = corners[0][0]\n",
    "bottomLat = corners[2][0]\n",
    "\n",
    "leftLon = corners[0][1]\n",
    "rightLon = corners[1][1]\n",
    "\n",
    "height = topLat - bottomLat\n",
    "width = rightLon - leftLon\n",
    "heightInterval = height / GRID_SIZE\n",
    "widthInterval = width / GRID_SIZE"
   ]
  },
  {
   "cell_type": "code",
   "execution_count": 8,
   "metadata": {},
   "outputs": [],
   "source": [
    "mapCenter = [grid_definition.getCenterLat(), grid_definition.getCenterLon()]\n",
    "\n",
    "cells = osm_reader.getGeoCells()"
   ]
  },
  {
   "cell_type": "markdown",
   "metadata": {},
   "source": [
    "## Map road type from csv"
   ]
  },
  {
   "cell_type": "code",
   "execution_count": 14,
   "metadata": {},
   "outputs": [],
   "source": [
    "osm_dir = \"/Users/zoepetard/Documents/Speckled/leon/osm/\"\n",
    "filename = osm_dir + \"roadtype_grid\" + str(GRID_SIZE) + \".csv\"\n",
    "\n",
    "#\"0=Motorway, 1=Primary Road, 2=Secondary Road, 3=Tertiary or 'Unclassified' Road, 4=Residential or Service Road, 5=Pedestrian or Cycle Way, 6=Unknown/No Roads\"\n",
    "labels = [\"Motorway\", \"Primary Road\", \"Secondary Road\",\n",
    "                   \"Tertiary or 'Unclassified' Road\", \"Residential or Service Road\", \n",
    "                   \"Pedestrian or Cycle Way\", \"Unknown/No Roads\"]\n",
    "\n",
    "featureGroups = []\n",
    "for label in labels:\n",
    "    featureGroups.append(folium.FeatureGroup(name=label))\n",
    "\n",
    "roadPixels = folium.Map(location=mapCenter,tiles=None, zoom_start=13, control_scale=True)\n",
    "folium.TileLayer('Stamen Toner', name='Leon Road Types').add_to(roadPixels)\n",
    "\n",
    "pd_df=pd.read_csv(filename, sep=',',header=None, skiprows=1)\n",
    "road_types = pd_df.values\n",
    "\n",
    "for cell_num, cell in enumerate(cells):\n",
    "    cell_multi = cell[0][\"geometry\"]\n",
    "    cell_shape = shapely.geometry.asShape(cell_multi)\n",
    "    row = int(cell_num / GRID_SIZE)\n",
    "    col = int(cell_num % GRID_SIZE)\n",
    "    level = int(road_types[row][col])\n",
    "    #print(level)\n",
    "    osm_reader.addCellRoadType(featureGroups[level], cell_multi, level)\n",
    "\n",
    "for featureGroup in featureGroups:\n",
    "    #featureGroup = folium.FeatureGroup(name=labels[num])\n",
    "    roadPixels.add_child(featureGroup)\n",
    "\n",
    "sensor_feature_group = folium.FeatureGroup(name='Existing Sensors')\n",
    "mapping.mapExistingSensors(sensor_feature_group, 'black')\n",
    "\n",
    "roadPixels.add_child(sensor_feature_group)\n",
    "    \n",
    "roadPixels.add_child(folium.map.LayerControl())\n",
    "roadPixels.save(\"../images/maps/LeonRoadTypeSmallGrid.html\")"
   ]
  },
  {
   "cell_type": "code",
   "execution_count": 10,
   "metadata": {},
   "outputs": [],
   "source": []
  },
  {
   "cell_type": "code",
   "execution_count": null,
   "metadata": {},
   "outputs": [],
   "source": [
    "##Back up\n",
    "osm_dir = \"/Users/zoepetard/Documents/Speckled/leon/osm/\"\n",
    "filename = osm_dir + \"roadtype_grid\" + str(GRID_SIZE) + \".csv\"\n",
    "\n",
    "#\"0=Motorway, 1=Primary Road, 2=Secondary Road, 3=Tertiary or 'Unclassified' Road, 4=Residential or Service Road, 5=Pedestrian or Cycle Way, 6=Unknown/No Roads\"\n",
    "labels = np.array([\"Motorway\", \"Primary Road\", \"Secondary Road\",\n",
    "                   \"Tertiary or 'Unclassified' Road\", \"Residential or Service Road\", \n",
    "                   \"Pedestrian or Cycle Way\", \"Unknown/No Roads\"])\n",
    "\n",
    "featureGroups = np.empty(7, dtype=folium.FeatureGroup)\n",
    "\n",
    "for num, featureGroup in enumerate(featureGroups):\n",
    "    featureGroup = folium.FeatureGroup(name=labels[num])\n",
    "\n",
    "roadPixels = folium.Map(location=mapCenter,tiles=\"Stamen Toner\", zoom_start=14)\n",
    "pd_df=pd.read_csv(filename, sep=',',header=None, skiprows=1)\n",
    "road_types = pd_df.values\n",
    "\n",
    "for cell_num, cell in enumerate(cells):\n",
    "    cell_multi = cell[0][\"geometry\"]\n",
    "    cell_shape = shapely.geometry.asShape(cell_multi)\n",
    "    row = int(cell_num / GRID_SIZE)\n",
    "    col = int(cell_num % GRID_SIZE)\n",
    "    osm_reader.addCellRoadType(roadPixels, cell_multi, int(road_types[row][col]))\n",
    "\n",
    "roadPixels.save(\"../images/maps/LeonCentroCellRoadType60WBlanks.html\")\n",
    "#roadPixels"
   ]
  },
  {
   "cell_type": "code",
   "execution_count": null,
   "metadata": {},
   "outputs": [],
   "source": []
  },
  {
   "cell_type": "markdown",
   "metadata": {},
   "source": [
    "## Map Land Use from CSV"
   ]
  },
  {
   "cell_type": "code",
   "execution_count": 11,
   "metadata": {},
   "outputs": [],
   "source": [
    "osm_dir = \"/Users/zoepetard/Documents/Speckled/leon/osm/\"\n",
    "filename = osm_dir + \"landuse_grid\" + str(GRID_SIZE) + \".csv\"\n",
    "        \n",
    "landPixels = folium.Map(location=mapCenter,tiles=None, zoom_start=13, control_scale=True)\n",
    "folium.TileLayer('Stamen Toner', name='Leon Land Uses').add_to(landPixels)\n",
    "\n",
    "labels = [\"Industrial\", \"Commercial\", \"Other Buildings\",\n",
    "                   \"Residential\", \"Parks\", \n",
    "                   \"Water\", \"Unknown\"]\n",
    "\n",
    "featureGroups = []\n",
    "for label in labels:\n",
    "    featureGroups.append(folium.FeatureGroup(name=label))\n",
    "\n",
    "pd_df=pd.read_csv(filename, sep=',',header=None, skiprows=1)\n",
    "land_use = pd_df.values\n",
    "\n",
    "for cell_num, cell in enumerate(cells):\n",
    "    cell_multi = cell[0][\"geometry\"]\n",
    "    cell_shape = shapely.geometry.asShape(cell_multi)\n",
    "    row = int(cell_num / GRID_SIZE)\n",
    "    col = int(cell_num % GRID_SIZE)\n",
    "    index = int(land_use[row][col])\n",
    "    osm_reader.addLandUse(featureGroups[index], cell_multi, index)\n",
    "    \n",
    "for featureGroup in featureGroups:\n",
    "    #featureGroup = folium.FeatureGroup(name=labels[num])\n",
    "    landPixels.add_child(featureGroup)\n",
    "    \n",
    "sensor_feature_group = folium.FeatureGroup(name='Existing Sensors')\n",
    "mapping.mapExistingSensors(sensor_feature_group, 'black')\n",
    "landPixels.add_child(sensor_feature_group)\n",
    "    \n",
    "landPixels.add_child(folium.map.LayerControl())\n",
    "\n",
    "landPixels.save(\"../images/maps/ToShare/LeonLandUseSmallGrid.html\")\n",
    "#landPixels"
   ]
  },
  {
   "cell_type": "markdown",
   "metadata": {},
   "source": [
    "## Make file with just green land use"
   ]
  },
  {
   "cell_type": "code",
   "execution_count": null,
   "metadata": {},
   "outputs": [],
   "source": [
    "osm_dir = \"/Users/zoepetard/Google Drive/Edinburgh/MscProj/FillingTheGaps/data/osm/\"\n",
    "filename = osm_dir + \"landuse_grid\" + str(GRID_SIZE) + \".csv\"\n",
    "\n",
    "pd_df=pd.read_csv(filename, sep=',',header=None, skiprows=1)\n",
    "\n",
    "land_use = pd_df.values\n",
    "\n",
    "cells = osm_reader.getGeoCells()\n",
    "\n",
    "\n",
    "for cell_num, cell in enumerate(cells):\n",
    "    cell_multi = cell[0][\"geometry\"]\n",
    "    cell_shape = shapely.geometry.asShape(cell_multi)\n",
    "    row = int(cell_num / GRID_SIZE)\n",
    "    col = int(cell_num % GRID_SIZE)\n",
    "    index = int(land_use[row][col])\n",
    "    if (index ==3):\n",
    "        land_use[row][col] = 1\n",
    "    else:\n",
    "        land_use[row][col] = 0\n",
    "        \n",
    "osm_dir = \"/Users/zoepetard/Google Drive/Edinburgh/MscProj/FillingTheGaps/data/osm/\"\n",
    "filename = osm_dir + \"landuse_green_grid\" + str(GRID_SIZE) + \".csv\"\n",
    "with open(filename, 'w') as csvfile:\n",
    "    csvfile.write(\"0=not green, 1=green \\n\")\n",
    "    writer = csv.writer(csvfile, lineterminator='\\n')\n",
    "    writer.writerows(land_use)        \n"
   ]
  },
  {
   "cell_type": "markdown",
   "metadata": {},
   "source": [
    "## Label cell geometry objects with major land use"
   ]
  },
  {
   "cell_type": "code",
   "execution_count": 9,
   "metadata": {},
   "outputs": [],
   "source": [
    "## Only needs to be done once per test area\n",
    "for cell_num, cell in enumerate(cells):\n",
    "    cell_multi = cell[0][\"geometry\"]\n",
    "    cell_shape = shapely.geometry.asShape(cell_multi)\n",
    "    \n",
    "    LU_areas = []\n",
    "    major_LU = 0\n",
    "    major_LU_index = -1\n",
    "\n",
    "    for LU_level, areaGeo in enumerate(areaGeos):\n",
    "        features = areaGeo[\"features\"]\n",
    "        #print(len(features))\n",
    "        area = 0\n",
    "        for feat in range(len(features)):\n",
    "            landuse_multi = areaGeo[\"features\"][feat][\"geometry\"] \n",
    "            landuse_shape = shapely.geometry.asShape(landuse_multi)\n",
    "            intersection = cell_shape.intersection(landuse_shape)\n",
    "            area += intersection.area\n",
    "        LU_areas.append(area)\n",
    "        if (area > major_LU):\n",
    "            major_LU = area\n",
    "            major_LU_index = LU_level\n",
    "    if (major_LU_index == -1): #if there are no landuses in the cell, make it grey\n",
    "        major_LU_index = 6\n",
    "    #osm_reader.addLandUse(pixelMap, cell_multi, major_LU_index)\n",
    "    cells[cell_num][0][\"properties\"][\"major_LU\"] = major_LU_index\n",
    "    \n",
    "#iterate over first 0/1 to go through diff landuse collections (levels 1 to 6)\n",
    "#iterate over second 0/1 to go through diff landuse items (items within a level)\n"
   ]
  },
  {
   "cell_type": "markdown",
   "metadata": {},
   "source": [
    "## Write cell major land use grid to csv for future retrieval"
   ]
  },
  {
   "cell_type": "code",
   "execution_count": 10,
   "metadata": {},
   "outputs": [],
   "source": [
    "## Only needs to be done once per test area\n",
    "#cells = osm_reader.getCellsWithMajorLU()\n",
    "cells_majorLU = np.zeros((GRID_SIZE, GRID_SIZE))\n",
    "\n",
    "for cell_num, cell in enumerate(cells):\n",
    "    #cell_multi = cell[0][\"geometry\"]\n",
    "    major_LU = cell[0][\"properties\"][\"major_LU\"] #= major_LU_index\n",
    "    row = int(cell_num / GRID_SIZE)\n",
    "    col = int(cell_num % GRID_SIZE)\n",
    "    cells_majorLU[row][col] = major_LU\n",
    "\n",
    "osm_dir = \"/Users/zoepetard/Documents/Speckled/leon/osm/\"\n",
    "filename = osm_dir + \"landuse_grid\" + str(GRID_SIZE) + \".csv\"\n",
    "with open(filename, 'w') as csvfile:\n",
    "    csvfile.write(\"1=industrial, 2=commercial, 3=buildings, 4=residential, 5=parks, 6=water, 7=unknown\" + \"\\n\")\n",
    "    writer = csv.writer(csvfile, lineterminator='\\n')\n",
    "    writer.writerows(cells_majorLU)"
   ]
  },
  {
   "cell_type": "markdown",
   "metadata": {},
   "source": [
    "## Label cell geometry objects with major road type."
   ]
  },
  {
   "cell_type": "code",
   "execution_count": 12,
   "metadata": {},
   "outputs": [],
   "source": [
    "## Only needs to be done once per test area\n",
    "for cell_num, cell in enumerate(cells):\n",
    "    cell_multi = cell[0][\"geometry\"]\n",
    "    cell_shape = shapely.geometry.asShape(cell_multi)\n",
    "    \n",
    "    for road_level, roadGeo in enumerate(roadGeos):\n",
    "        cells[cell_num][0][\"properties\"][\"major_road\"] = 6 #As a default, road level is grey/blank\n",
    "        intersection = False \n",
    "        features = roadGeo[\"features\"]\n",
    "        for feat in range(len(features)):\n",
    "            roadtype_multi = roadGeo[\"features\"][feat][\"geometry\"] \n",
    "            roadtype_shape = shapely.geometry.asShape(roadtype_multi)\n",
    "            intersection = cell_shape.intersects(roadtype_shape)\n",
    "            if (intersection):\n",
    "                cells[cell_num][0][\"properties\"][\"major_road\"] = road_level\n",
    "                break\n",
    "        if (intersection):\n",
    "            break"
   ]
  },
  {
   "cell_type": "markdown",
   "metadata": {},
   "source": [
    "## Write cell major road type grid to csv for future retrieval"
   ]
  },
  {
   "cell_type": "code",
   "execution_count": 13,
   "metadata": {},
   "outputs": [],
   "source": [
    "## Only needs to be done once per test area\n",
    "cells_major_road = np.zeros((GRID_SIZE, GRID_SIZE))\n",
    "\n",
    "for cell_num, cell in enumerate(cells):\n",
    "    major_road = cell[0][\"properties\"][\"major_road\"] \n",
    "    row = int(cell_num / GRID_SIZE)\n",
    "    col = int(cell_num % GRID_SIZE)\n",
    "    cells_major_road[row][col] = major_road\n",
    "\n",
    "osm_dir = \"/Users/zoepetard/Documents/Speckled/leon/osm/\"\n",
    "filename = osm_dir + \"roadtype_grid\" + str(GRID_SIZE) + \".csv\"\n",
    "with open(filename, 'w') as csvfile:\n",
    "    csvfile.write(\"0=Motorway, 1=Primary Road, 2=Secondary Road, 3=Tertiary or 'Unclassified' Road, 4=Residential or Service Road, 5=Pedestrian or Cycle Way, 6=Unknown/No Roads\" + \"\\n\")\n",
    "    writer = csv.writer(csvfile, lineterminator='\\n')\n",
    "    writer.writerows(cells_major_road)"
   ]
  },
  {
   "cell_type": "code",
   "execution_count": null,
   "metadata": {},
   "outputs": [],
   "source": []
  }
 ],
 "metadata": {
  "kernelspec": {
   "display_name": "Python 3",
   "language": "python",
   "name": "python3"
  },
  "language_info": {
   "codemirror_mode": {
    "name": "ipython",
    "version": 3
   },
   "file_extension": ".py",
   "mimetype": "text/x-python",
   "name": "python",
   "nbconvert_exporter": "python",
   "pygments_lexer": "ipython3",
   "version": "3.7.4"
  }
 },
 "nbformat": 4,
 "nbformat_minor": 2
}
