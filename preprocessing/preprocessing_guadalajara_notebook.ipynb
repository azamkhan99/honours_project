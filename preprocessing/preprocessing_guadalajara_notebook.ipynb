{
 "cells": [
  {
   "cell_type": "markdown",
   "metadata": {},
   "source": [
    "# Importing *"
   ]
  },
  {
   "cell_type": "code",
   "execution_count": 1,
   "metadata": {},
   "outputs": [
    {
     "name": "stdout",
     "output_type": "stream",
     "text": [
      "INFO: Pandarallel will run on 8 workers.\n",
      "INFO: Pandarallel will use standard multiprocessing data transfer (pipe) to transfer data between the main process and workers.\n"
     ]
    }
   ],
   "source": [
    "from preprocessing_guadalajara_helpers import *"
   ]
  },
  {
   "cell_type": "markdown",
   "metadata": {},
   "source": [
    "# Static Files"
   ]
  },
  {
   "cell_type": "markdown",
   "metadata": {},
   "source": [
    "## Loading Static Files"
   ]
  },
  {
   "cell_type": "code",
   "execution_count": 2,
   "metadata": {},
   "outputs": [],
   "source": [
    "gdl_sensors = pd.read_csv(\"guadalajara_sensors.csv\")\n",
    "gdl_sensors = gdl_sensors.set_index(\"UUID\")"
   ]
  },
  {
   "cell_type": "code",
   "execution_count": 3,
   "metadata": {
    "scrolled": true
   },
   "outputs": [
    {
     "name": "stdout",
     "output_type": "stream",
     "text": [
      "Loading file: /Users/azamkhan/speckled/Mexico/Calibrated Data/gdl/MXX101_guadalajara_calibrated.xlsx\n",
      "Skipped file because it doesn't exist\n",
      "Loading file: /Users/azamkhan/speckled/Mexico/Calibrated Data/gdl/MXX102_guadalajara_calibrated.xlsx\n",
      "Skipped file because it doesn't exist\n",
      "Loading file: /Users/azamkhan/speckled/Mexico/Calibrated Data/gdl/MXX103_guadalajara_calibrated.xlsx\n",
      "Skipped file because it doesn't exist\n",
      "Loading file: /Users/azamkhan/speckled/Mexico/Calibrated Data/gdl/Unknown_guadalajara_calibrated.xlsx\n",
      "Skipped file because it doesn't exist\n",
      "Loading file: /Users/azamkhan/speckled/Mexico/Calibrated Data/gdl/229B8913D6A5B970_guadalajara_calibrated.xlsx\n",
      "Loading file: /Users/azamkhan/speckled/Mexico/Calibrated Data/gdl/AE93FD8053BFDDFD_guadalajara_calibrated.xlsx\n",
      "Loading file: /Users/azamkhan/speckled/Mexico/Calibrated Data/gdl/FD368D7D6B815C1B_guadalajara_calibrated.xlsx\n",
      "Loading file: /Users/azamkhan/speckled/Mexico/Calibrated Data/gdl/3AB8A58A952B89B6_guadalajara_calibrated.xlsx\n",
      "Loading file: /Users/azamkhan/speckled/Mexico/Calibrated Data/gdl/3BC10C97D2490E7B_guadalajara_calibrated.xlsx\n"
     ]
    }
   ],
   "source": [
    "gdl_static_df = loading_guadalajara_static()"
   ]
  },
  {
   "cell_type": "markdown",
   "metadata": {},
   "source": [
    "## Preprocessing static files"
   ]
  },
  {
   "cell_type": "code",
   "execution_count": 4,
   "metadata": {},
   "outputs": [],
   "source": [
    "static_gdl = preprocessing_guadalajara_static(gdl_static_df)"
   ]
  },
  {
   "cell_type": "code",
   "execution_count": 5,
   "metadata": {},
   "outputs": [
    {
     "data": {
      "text/html": [
       "<div>\n",
       "<style scoped>\n",
       "    .dataframe tbody tr th:only-of-type {\n",
       "        vertical-align: middle;\n",
       "    }\n",
       "\n",
       "    .dataframe tbody tr th {\n",
       "        vertical-align: top;\n",
       "    }\n",
       "\n",
       "    .dataframe thead th {\n",
       "        text-align: right;\n",
       "    }\n",
       "</style>\n",
       "<table border=\"1\" class=\"dataframe\">\n",
       "  <thead>\n",
       "    <tr style=\"text-align: right;\">\n",
       "      <th></th>\n",
       "      <th>timestamp</th>\n",
       "      <th>pm2_5</th>\n",
       "      <th>hour_of_day</th>\n",
       "      <th>day_of_week</th>\n",
       "      <th>temperature</th>\n",
       "      <th>humidity</th>\n",
       "      <th>gpsLongitude</th>\n",
       "      <th>gpsLatitude</th>\n",
       "      <th>UUID</th>\n",
       "    </tr>\n",
       "  </thead>\n",
       "  <tbody>\n",
       "    <tr>\n",
       "      <th>0</th>\n",
       "      <td>2019-12-19 07:06:26-06:00</td>\n",
       "      <td>25.756097</td>\n",
       "      <td>7</td>\n",
       "      <td>3</td>\n",
       "      <td>25.1</td>\n",
       "      <td>34.8</td>\n",
       "      <td>0.000000</td>\n",
       "      <td>0.000000</td>\n",
       "      <td>229B8913D6A5B970</td>\n",
       "    </tr>\n",
       "    <tr>\n",
       "      <th>1</th>\n",
       "      <td>2019-12-19 07:10:26-06:00</td>\n",
       "      <td>21.315023</td>\n",
       "      <td>7</td>\n",
       "      <td>3</td>\n",
       "      <td>25.9</td>\n",
       "      <td>33.5</td>\n",
       "      <td>-103.333260</td>\n",
       "      <td>20.673847</td>\n",
       "      <td>229B8913D6A5B970</td>\n",
       "    </tr>\n",
       "    <tr>\n",
       "      <th>2</th>\n",
       "      <td>2019-12-19 07:14:26-06:00</td>\n",
       "      <td>28.290377</td>\n",
       "      <td>7</td>\n",
       "      <td>3</td>\n",
       "      <td>25.9</td>\n",
       "      <td>33.5</td>\n",
       "      <td>-103.333260</td>\n",
       "      <td>20.673847</td>\n",
       "      <td>229B8913D6A5B970</td>\n",
       "    </tr>\n",
       "    <tr>\n",
       "      <th>3</th>\n",
       "      <td>2019-12-19 07:18:26-06:00</td>\n",
       "      <td>20.285728</td>\n",
       "      <td>7</td>\n",
       "      <td>3</td>\n",
       "      <td>27.2</td>\n",
       "      <td>31.8</td>\n",
       "      <td>-103.333260</td>\n",
       "      <td>20.673847</td>\n",
       "      <td>229B8913D6A5B970</td>\n",
       "    </tr>\n",
       "    <tr>\n",
       "      <th>4</th>\n",
       "      <td>2019-12-19 07:22:26-06:00</td>\n",
       "      <td>21.066434</td>\n",
       "      <td>7</td>\n",
       "      <td>3</td>\n",
       "      <td>28.1</td>\n",
       "      <td>30.5</td>\n",
       "      <td>-103.333260</td>\n",
       "      <td>20.673847</td>\n",
       "      <td>229B8913D6A5B970</td>\n",
       "    </tr>\n",
       "    <tr>\n",
       "      <th>...</th>\n",
       "      <td>...</td>\n",
       "      <td>...</td>\n",
       "      <td>...</td>\n",
       "      <td>...</td>\n",
       "      <td>...</td>\n",
       "      <td>...</td>\n",
       "      <td>...</td>\n",
       "      <td>...</td>\n",
       "      <td>...</td>\n",
       "    </tr>\n",
       "    <tr>\n",
       "      <th>79222</th>\n",
       "      <td>2020-02-17 04:40:59-06:00</td>\n",
       "      <td>12.599937</td>\n",
       "      <td>4</td>\n",
       "      <td>0</td>\n",
       "      <td>28.4</td>\n",
       "      <td>29.8</td>\n",
       "      <td>-103.339119</td>\n",
       "      <td>20.680862</td>\n",
       "      <td>3BC10C97D2490E7B</td>\n",
       "    </tr>\n",
       "    <tr>\n",
       "      <th>79223</th>\n",
       "      <td>2020-02-17 04:44:59-06:00</td>\n",
       "      <td>12.312502</td>\n",
       "      <td>4</td>\n",
       "      <td>0</td>\n",
       "      <td>28.7</td>\n",
       "      <td>29.6</td>\n",
       "      <td>-103.339119</td>\n",
       "      <td>20.680862</td>\n",
       "      <td>3BC10C97D2490E7B</td>\n",
       "    </tr>\n",
       "    <tr>\n",
       "      <th>79224</th>\n",
       "      <td>2020-02-17 04:48:59-06:00</td>\n",
       "      <td>8.390249</td>\n",
       "      <td>4</td>\n",
       "      <td>0</td>\n",
       "      <td>28.9</td>\n",
       "      <td>29.1</td>\n",
       "      <td>-103.339119</td>\n",
       "      <td>20.680862</td>\n",
       "      <td>3BC10C97D2490E7B</td>\n",
       "    </tr>\n",
       "    <tr>\n",
       "      <th>79225</th>\n",
       "      <td>2020-02-17 04:52:59-06:00</td>\n",
       "      <td>9.349374</td>\n",
       "      <td>4</td>\n",
       "      <td>0</td>\n",
       "      <td>29.2</td>\n",
       "      <td>29.0</td>\n",
       "      <td>-103.339119</td>\n",
       "      <td>20.680862</td>\n",
       "      <td>3BC10C97D2490E7B</td>\n",
       "    </tr>\n",
       "    <tr>\n",
       "      <th>79226</th>\n",
       "      <td>2020-02-17 04:56:59-06:00</td>\n",
       "      <td>12.440072</td>\n",
       "      <td>4</td>\n",
       "      <td>0</td>\n",
       "      <td>29.3</td>\n",
       "      <td>28.3</td>\n",
       "      <td>-103.339119</td>\n",
       "      <td>20.680862</td>\n",
       "      <td>3BC10C97D2490E7B</td>\n",
       "    </tr>\n",
       "  </tbody>\n",
       "</table>\n",
       "<p>79227 rows × 9 columns</p>\n",
       "</div>"
      ],
      "text/plain": [
       "                      timestamp      pm2_5  hour_of_day day_of_week  \\\n",
       "0     2019-12-19 07:06:26-06:00  25.756097            7           3   \n",
       "1     2019-12-19 07:10:26-06:00  21.315023            7           3   \n",
       "2     2019-12-19 07:14:26-06:00  28.290377            7           3   \n",
       "3     2019-12-19 07:18:26-06:00  20.285728            7           3   \n",
       "4     2019-12-19 07:22:26-06:00  21.066434            7           3   \n",
       "...                         ...        ...          ...         ...   \n",
       "79222 2020-02-17 04:40:59-06:00  12.599937            4           0   \n",
       "79223 2020-02-17 04:44:59-06:00  12.312502            4           0   \n",
       "79224 2020-02-17 04:48:59-06:00   8.390249            4           0   \n",
       "79225 2020-02-17 04:52:59-06:00   9.349374            4           0   \n",
       "79226 2020-02-17 04:56:59-06:00  12.440072            4           0   \n",
       "\n",
       "       temperature  humidity  gpsLongitude  gpsLatitude              UUID  \n",
       "0             25.1      34.8      0.000000     0.000000  229B8913D6A5B970  \n",
       "1             25.9      33.5   -103.333260    20.673847  229B8913D6A5B970  \n",
       "2             25.9      33.5   -103.333260    20.673847  229B8913D6A5B970  \n",
       "3             27.2      31.8   -103.333260    20.673847  229B8913D6A5B970  \n",
       "4             28.1      30.5   -103.333260    20.673847  229B8913D6A5B970  \n",
       "...            ...       ...           ...          ...               ...  \n",
       "79222         28.4      29.8   -103.339119    20.680862  3BC10C97D2490E7B  \n",
       "79223         28.7      29.6   -103.339119    20.680862  3BC10C97D2490E7B  \n",
       "79224         28.9      29.1   -103.339119    20.680862  3BC10C97D2490E7B  \n",
       "79225         29.2      29.0   -103.339119    20.680862  3BC10C97D2490E7B  \n",
       "79226         29.3      28.3   -103.339119    20.680862  3BC10C97D2490E7B  \n",
       "\n",
       "[79227 rows x 9 columns]"
      ]
     },
     "execution_count": 5,
     "metadata": {},
     "output_type": "execute_result"
    }
   ],
   "source": [
    "static_gdl"
   ]
  },
  {
   "cell_type": "code",
   "execution_count": 6,
   "metadata": {},
   "outputs": [],
   "source": [
    "#Save preprocessed static dataframe\n",
    "static_gdl.to_csv(\"guadalajara_stationary.csv\")"
   ]
  },
  {
   "cell_type": "markdown",
   "metadata": {},
   "source": [
    "# Personal Files"
   ]
  },
  {
   "cell_type": "markdown",
   "metadata": {},
   "source": [
    "## Loading Personal Files"
   ]
  },
  {
   "cell_type": "code",
   "execution_count": 6,
   "metadata": {
    "scrolled": true
   },
   "outputs": [
    {
     "name": "stdout",
     "output_type": "stream",
     "text": [
      "Loading file: /Users/azamkhan/speckled/Mexico/Calibrated Data/gdl/MXX101_guadalajara_2020-01-13_calibrated.xlsx\n",
      "Loading file: /Users/azamkhan/speckled/Mexico/Calibrated Data/gdl/MXX102_guadalajara_2020-01-13_calibrated.xlsx\n",
      "Loading file: /Users/azamkhan/speckled/Mexico/Calibrated Data/gdl/MXX103_guadalajara_2020-01-13_calibrated.xlsx\n",
      "Loading file: /Users/azamkhan/speckled/Mexico/Calibrated Data/gdl/MXX101_guadalajara_2020-01-14_calibrated.xlsx\n",
      "Loading file: /Users/azamkhan/speckled/Mexico/Calibrated Data/gdl/MXX102_guadalajara_2020-01-14_calibrated.xlsx\n",
      "Loading file: /Users/azamkhan/speckled/Mexico/Calibrated Data/gdl/MXX103_guadalajara_2020-01-14_calibrated.xlsx\n",
      "Loading file: /Users/azamkhan/speckled/Mexico/Calibrated Data/gdl/MXX101_guadalajara_2020-01-15_calibrated.xlsx\n",
      "Loading file: /Users/azamkhan/speckled/Mexico/Calibrated Data/gdl/MXX102_guadalajara_2020-01-15_calibrated.xlsx\n",
      "Loading file: /Users/azamkhan/speckled/Mexico/Calibrated Data/gdl/MXX103_guadalajara_2020-01-15_calibrated.xlsx\n",
      "Loading file: /Users/azamkhan/speckled/Mexico/Calibrated Data/gdl/MXX101_guadalajara_2020-01-16_calibrated.xlsx\n",
      "Loading file: /Users/azamkhan/speckled/Mexico/Calibrated Data/gdl/MXX102_guadalajara_2020-01-16_calibrated.xlsx\n",
      "Loading file: /Users/azamkhan/speckled/Mexico/Calibrated Data/gdl/MXX103_guadalajara_2020-01-16_calibrated.xlsx\n",
      "Loading file: /Users/azamkhan/speckled/Mexico/Calibrated Data/gdl/MXX101_guadalajara_2020-01-17_calibrated.xlsx\n",
      "Loading file: /Users/azamkhan/speckled/Mexico/Calibrated Data/gdl/MXX102_guadalajara_2020-01-17_calibrated.xlsx\n",
      "Loading file: /Users/azamkhan/speckled/Mexico/Calibrated Data/gdl/MXX103_guadalajara_2020-01-17_calibrated.xlsx\n",
      "Loading file: /Users/azamkhan/speckled/Mexico/Calibrated Data/gdl/MXX101_guadalajara_2020-01-20_calibrated.xlsx\n",
      "Loading file: /Users/azamkhan/speckled/Mexico/Calibrated Data/gdl/MXX102_guadalajara_2020-01-20_calibrated.xlsx\n",
      "Loading file: /Users/azamkhan/speckled/Mexico/Calibrated Data/gdl/MXX103_guadalajara_2020-01-20_calibrated.xlsx\n",
      "Loading file: /Users/azamkhan/speckled/Mexico/Calibrated Data/gdl/MXX101_guadalajara_2020-01-21_calibrated.xlsx\n",
      "Loading file: /Users/azamkhan/speckled/Mexico/Calibrated Data/gdl/MXX102_guadalajara_2020-01-21_calibrated.xlsx\n",
      "Loading file: /Users/azamkhan/speckled/Mexico/Calibrated Data/gdl/MXX103_guadalajara_2020-01-21_calibrated.xlsx\n",
      "Loading file: /Users/azamkhan/speckled/Mexico/Calibrated Data/gdl/MXX101_guadalajara_2020-01-22_calibrated.xlsx\n",
      "Loading file: /Users/azamkhan/speckled/Mexico/Calibrated Data/gdl/MXX102_guadalajara_2020-01-22_calibrated.xlsx\n",
      "Loading file: /Users/azamkhan/speckled/Mexico/Calibrated Data/gdl/MXX103_guadalajara_2020-01-22_calibrated.xlsx\n",
      "Loading file: /Users/azamkhan/speckled/Mexico/Calibrated Data/gdl/MXX101_guadalajara_2020-01-23_calibrated.xlsx\n",
      "Loading file: /Users/azamkhan/speckled/Mexico/Calibrated Data/gdl/MXX102_guadalajara_2020-01-23_calibrated.xlsx\n",
      "Loading file: /Users/azamkhan/speckled/Mexico/Calibrated Data/gdl/MXX103_guadalajara_2020-01-23_calibrated.xlsx\n",
      "Loading file: /Users/azamkhan/speckled/Mexico/Calibrated Data/gdl/MXX101_guadalajara_2020-01-24_calibrated.xlsx\n",
      "Loading file: /Users/azamkhan/speckled/Mexico/Calibrated Data/gdl/MXX102_guadalajara_2020-01-24_calibrated.xlsx\n",
      "Loading file: /Users/azamkhan/speckled/Mexico/Calibrated Data/gdl/MXX103_guadalajara_2020-01-24_calibrated.xlsx\n",
      "Loading file: /Users/azamkhan/speckled/Mexico/Calibrated Data/gdl/MXX101_guadalajara_2020-01-27_calibrated.xlsx\n",
      "Loading file: /Users/azamkhan/speckled/Mexico/Calibrated Data/gdl/MXX102_guadalajara_2020-01-27_calibrated.xlsx\n",
      "Loading file: /Users/azamkhan/speckled/Mexico/Calibrated Data/gdl/MXX103_guadalajara_2020-01-27_calibrated.xlsx\n",
      "Loading file: /Users/azamkhan/speckled/Mexico/Calibrated Data/gdl/MXX101_guadalajara_2020-01-28_calibrated.xlsx\n",
      "Loading file: /Users/azamkhan/speckled/Mexico/Calibrated Data/gdl/MXX102_guadalajara_2020-01-28_calibrated.xlsx\n",
      "Loading file: /Users/azamkhan/speckled/Mexico/Calibrated Data/gdl/MXX103_guadalajara_2020-01-28_calibrated.xlsx\n",
      "Loading file: /Users/azamkhan/speckled/Mexico/Calibrated Data/gdl/MXX101_guadalajara_2020-01-29_calibrated.xlsx\n",
      "Loading file: /Users/azamkhan/speckled/Mexico/Calibrated Data/gdl/MXX102_guadalajara_2020-01-29_calibrated.xlsx\n",
      "Loading file: /Users/azamkhan/speckled/Mexico/Calibrated Data/gdl/MXX101_guadalajara_2020-01-30_calibrated.xlsx\n",
      "Loading file: /Users/azamkhan/speckled/Mexico/Calibrated Data/gdl/MXX102_guadalajara_2020-01-30_calibrated.xlsx\n",
      "Loading file: /Users/azamkhan/speckled/Mexico/Calibrated Data/gdl/MXX103_guadalajara_2020-01-30_calibrated.xlsx\n",
      "Loading file: /Users/azamkhan/speckled/Mexico/Calibrated Data/gdl/MXX101_guadalajara_2020-01-31_calibrated.xlsx\n",
      "Loading file: /Users/azamkhan/speckled/Mexico/Calibrated Data/gdl/MXX102_guadalajara_2020-01-31_calibrated.xlsx\n",
      "Loading file: /Users/azamkhan/speckled/Mexico/Calibrated Data/gdl/MXX103_guadalajara_2020-01-31_calibrated.xlsx\n",
      "Loading file: /Users/azamkhan/speckled/Mexico/Calibrated Data/gdl/MXX101_guadalajara_2020-02-01_calibrated.xlsx\n",
      "Loading file: /Users/azamkhan/speckled/Mexico/Calibrated Data/gdl/MXX102_guadalajara_2020-02-01_calibrated.xlsx\n",
      "Loading file: /Users/azamkhan/speckled/Mexico/Calibrated Data/gdl/MXX103_guadalajara_2020-02-01_calibrated.xlsx\n",
      "Loading file: /Users/azamkhan/speckled/Mexico/Calibrated Data/gdl/MXX101_guadalajara_2020-02-02_calibrated.xlsx\n",
      "Loading file: /Users/azamkhan/speckled/Mexico/Calibrated Data/gdl/MXX102_guadalajara_2020-02-02_calibrated.xlsx\n",
      "Loading file: /Users/azamkhan/speckled/Mexico/Calibrated Data/gdl/MXX103_guadalajara_2020-02-02_calibrated.xlsx\n",
      "Loading file: /Users/azamkhan/speckled/Mexico/Calibrated Data/gdl/MXX101_guadalajara_2020-02-04_calibrated.xlsx\n",
      "Loading file: /Users/azamkhan/speckled/Mexico/Calibrated Data/gdl/MXX102_guadalajara_2020-02-04_calibrated.xlsx\n",
      "Loading file: /Users/azamkhan/speckled/Mexico/Calibrated Data/gdl/MXX103_guadalajara_2020-02-04_calibrated.xlsx\n",
      "Loading file: /Users/azamkhan/speckled/Mexico/Calibrated Data/gdl/MXX101_guadalajara_2020-02-05_calibrated.xlsx\n",
      "Loading file: /Users/azamkhan/speckled/Mexico/Calibrated Data/gdl/MXX102_guadalajara_2020-02-05_calibrated.xlsx\n",
      "Loading file: /Users/azamkhan/speckled/Mexico/Calibrated Data/gdl/MXX103_guadalajara_2020-02-05_calibrated.xlsx\n",
      "Loading file: /Users/azamkhan/speckled/Mexico/Calibrated Data/gdl/MXX101_guadalajara_2020-02-06_calibrated.xlsx\n",
      "Loading file: /Users/azamkhan/speckled/Mexico/Calibrated Data/gdl/MXX102_guadalajara_2020-02-06_calibrated.xlsx\n",
      "Loading file: /Users/azamkhan/speckled/Mexico/Calibrated Data/gdl/MXX103_guadalajara_2020-02-06_calibrated.xlsx\n",
      "Loading file: /Users/azamkhan/speckled/Mexico/Calibrated Data/gdl/MXX101_guadalajara_2020-02-07_calibrated.xlsx\n",
      "Loading file: /Users/azamkhan/speckled/Mexico/Calibrated Data/gdl/MXX102_guadalajara_2020-02-07_calibrated.xlsx\n",
      "Loading file: /Users/azamkhan/speckled/Mexico/Calibrated Data/gdl/MXX103_guadalajara_2020-02-07_calibrated.xlsx\n",
      "Loading file: /Users/azamkhan/speckled/Mexico/Calibrated Data/gdl/MXX101_guadalajara_2020-02-10_calibrated.xlsx\n",
      "Loading file: /Users/azamkhan/speckled/Mexico/Calibrated Data/gdl/MXX102_guadalajara_2020-02-10_calibrated.xlsx\n",
      "Loading file: /Users/azamkhan/speckled/Mexico/Calibrated Data/gdl/MXX103_guadalajara_2020-02-10_calibrated.xlsx\n",
      "Loading file: /Users/azamkhan/speckled/Mexico/Calibrated Data/gdl/MXX101_guadalajara_2020-02-11_calibrated.xlsx\n",
      "Loading file: /Users/azamkhan/speckled/Mexico/Calibrated Data/gdl/MXX102_guadalajara_2020-02-11_calibrated.xlsx\n",
      "Loading file: /Users/azamkhan/speckled/Mexico/Calibrated Data/gdl/MXX103_guadalajara_2020-02-11_calibrated.xlsx\n",
      "Loading file: /Users/azamkhan/speckled/Mexico/Calibrated Data/gdl/MXX101_guadalajara_2020-02-12_calibrated.xlsx\n",
      "Loading file: /Users/azamkhan/speckled/Mexico/Calibrated Data/gdl/MXX102_guadalajara_2020-02-12_calibrated.xlsx\n",
      "Loading file: /Users/azamkhan/speckled/Mexico/Calibrated Data/gdl/MXX101_guadalajara_2020-02-13_calibrated.xlsx\n",
      "Loading file: /Users/azamkhan/speckled/Mexico/Calibrated Data/gdl/MXX102_guadalajara_2020-02-13_calibrated.xlsx\n",
      "Loading file: /Users/azamkhan/speckled/Mexico/Calibrated Data/gdl/MXX103_guadalajara_2020-02-13_calibrated.xlsx\n",
      "Loading file: /Users/azamkhan/speckled/Mexico/Calibrated Data/gdl/MXX101_guadalajara_2020-02-14_calibrated.xlsx\n",
      "Loading file: /Users/azamkhan/speckled/Mexico/Calibrated Data/gdl/MXX102_guadalajara_2020-02-14_calibrated.xlsx\n",
      "Loading file: /Users/azamkhan/speckled/Mexico/Calibrated Data/gdl/MXX103_guadalajara_2020-02-14_calibrated.xlsx\n",
      "Loading file: /Users/azamkhan/speckled/Mexico/Calibrated Data/gdl/NaT_guadalajara_NaT_calibrated.xlsx\n",
      "Skipped file because it doesn't exist\n"
     ]
    }
   ],
   "source": [
    "gdl_personal_df = loading_guadalajara_personal()"
   ]
  },
  {
   "cell_type": "markdown",
   "metadata": {},
   "source": [
    "## Preprocessing personal files"
   ]
  },
  {
   "cell_type": "code",
   "execution_count": 8,
   "metadata": {},
   "outputs": [
    {
     "name": "stderr",
     "output_type": "stream",
     "text": [
      "/Users/azamkhan/miniconda3/envs/pdiot/lib/python3.7/site-packages/pandas/core/computation/expressions.py:68: FutureWarning: elementwise comparison failed; returning scalar instead, but in the future will perform elementwise comparison\n",
      "  return op(a, b)\n"
     ]
    }
   ],
   "source": [
    "#Preprocessing only, outliers removed in \"mexico-cleaning.ipynb\"\n",
    "personal_guadalajara = preprocessing_guadalajara_personal(gdl_personal_df, static_gdl)"
   ]
  },
  {
   "cell_type": "code",
   "execution_count": null,
   "metadata": {},
   "outputs": [],
   "source": [
    "personal_guadalajara.to_csv(\"guadalajara.csv\")"
   ]
  },
  {
   "cell_type": "markdown",
   "metadata": {},
   "source": [
    "# Making Spatial-T dataset"
   ]
  },
  {
   "cell_type": "code",
   "execution_count": null,
   "metadata": {},
   "outputs": [],
   "source": [
    "#This step was done after performing cleaning of dataset using \"mexico-cleaning.ipynb\" and adding road type data"
   ]
  },
  {
   "cell_type": "code",
   "execution_count": null,
   "metadata": {},
   "outputs": [],
   "source": [
    "gdl_s = pd.read_csv(\"guadalajara_stationary.csv\")"
   ]
  },
  {
   "cell_type": "code",
   "execution_count": null,
   "metadata": {},
   "outputs": [],
   "source": [
    "gdl_s['timestamp'] = gdl_s['timestamp'].apply(lambda x: pd.to_datetime(x).tz_convert('America/Mexico_City'))"
   ]
  },
  {
   "cell_type": "code",
   "execution_count": null,
   "metadata": {},
   "outputs": [],
   "source": [
    "gdl_s = gdl_s.set_index(\"timestamp\")"
   ]
  },
  {
   "cell_type": "code",
   "execution_count": null,
   "metadata": {},
   "outputs": [],
   "source": [
    "gdl_s = gdl_s[~gdl_s.duplicated()]"
   ]
  },
  {
   "cell_type": "code",
   "execution_count": null,
   "metadata": {},
   "outputs": [],
   "source": [
    "#Use path to fully pre-processed personal leon dataset\n",
    "gdl_p = pd.read_csv(\"guadalajara.csv\")"
   ]
  },
  {
   "cell_type": "code",
   "execution_count": null,
   "metadata": {},
   "outputs": [],
   "source": [
    "gdl_p['timestamp'] = gdl_p['timestamp'].apply(lambda x: pd.to_datetime(x).tz_convert('America/Mexico_City'))"
   ]
  },
  {
   "cell_type": "code",
   "execution_count": null,
   "metadata": {},
   "outputs": [],
   "source": [
    "def closest_pred_value(row, dataframe, window_size):\n",
    "    uuid1 = row['closest_pm_id']#.item()\n",
    "\n",
    "    \n",
    "    ts = row['timestamp']\n",
    "    date = str(ts.date())\n",
    "    pm = row['closest_pm']\n",
    "    \n",
    "    first = ts - timedelta(minutes=window_size)\n",
    "    last = ts + timedelta(minutes=0)\n",
    "    first = str(first.time())\n",
    "    last = str(last.time())\n",
    "    \n",
    "    lag = dataframe[dataframe.UUID == uuid1].loc[date].between_time(first, last)['pm2_5'].values\n",
    "    \n",
    "    if (len(lag) > 0):\n",
    "        return pd.Series([np.mean(lag[-3:]), np.mean(lag[-6:]), np.mean(lag)])\n",
    "    else:\n",
    "        return pd.Series([pm, pm, pm])\n",
    "            \n",
    "#     try:\n",
    "#         lag = dataframe[dataframe.UUID == uuid1].loc[date].between_time(first, last)['pm2_5'].values\n",
    "#         return pd.Series([np.mean(lag[-3:]), np.mean(lag[-6:]), np.mean(lag)]) \n",
    "#     except:\n",
    "#         return 0"
   ]
  },
  {
   "cell_type": "code",
   "execution_count": null,
   "metadata": {},
   "outputs": [],
   "source": [
    "test = gdl_p.copy()"
   ]
  },
  {
   "cell_type": "code",
   "execution_count": null,
   "metadata": {},
   "outputs": [],
   "source": [
    "test[['15min_avg', '30min_avg','60min_avg']] = test.parallel_apply(lambda row: closest_pred_value(row, gdl_s, 60), axis=1)"
   ]
  },
  {
   "cell_type": "code",
   "execution_count": null,
   "metadata": {},
   "outputs": [],
   "source": [
    "#test = test.rename(columns={'test': 'avg15_min'})"
   ]
  },
  {
   "cell_type": "code",
   "execution_count": null,
   "metadata": {},
   "outputs": [],
   "source": [
    "test.to_csv(\"guadalajara_spatial_T.csv\")"
   ]
  }
 ],
 "metadata": {
  "kernelspec": {
   "display_name": "Python 3",
   "language": "python",
   "name": "python3"
  },
  "language_info": {
   "codemirror_mode": {
    "name": "ipython",
    "version": 3
   },
   "file_extension": ".py",
   "mimetype": "text/x-python",
   "name": "python",
   "nbconvert_exporter": "python",
   "pygments_lexer": "ipython3",
   "version": "3.7.9"
  },
  "toc": {
   "base_numbering": 1,
   "nav_menu": {},
   "number_sections": true,
   "sideBar": true,
   "skip_h1_title": false,
   "title_cell": "Table of Contents",
   "title_sidebar": "Contents",
   "toc_cell": false,
   "toc_position": {},
   "toc_section_display": true,
   "toc_window_display": false
  }
 },
 "nbformat": 4,
 "nbformat_minor": 4
}
