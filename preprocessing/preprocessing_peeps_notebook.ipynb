{
 "cells": [
  {
   "cell_type": "markdown",
   "metadata": {},
   "source": [
    "# Importing *"
   ]
  },
  {
   "cell_type": "code",
   "execution_count": 1,
   "metadata": {},
   "outputs": [
    {
     "name": "stdout",
     "output_type": "stream",
     "text": [
      "INFO: Pandarallel will run on 8 workers.\n",
      "INFO: Pandarallel will use standard multiprocessing data transfer (pipe) to transfer data between the main process and workers.\n"
     ]
    }
   ],
   "source": [
    "from preprocessing_peeps_helpers import *"
   ]
  },
  {
   "cell_type": "markdown",
   "metadata": {},
   "source": [
    "# Static Files"
   ]
  },
  {
   "cell_type": "markdown",
   "metadata": {},
   "source": [
    "## Loading Files"
   ]
  },
  {
   "cell_type": "code",
   "execution_count": 2,
   "metadata": {},
   "outputs": [],
   "source": [
    "#Loading gps coordinates of all Airspeck-S locations\n",
    "all_stations = pd.read_csv(\"peeps_sensors.csv\")\n",
    "all_stations = all_stations.set_index(\"UUID\")"
   ]
  },
  {
   "cell_type": "code",
   "execution_count": 3,
   "metadata": {},
   "outputs": [
    {
     "name": "stdout",
     "output_type": "stream",
     "text": [
      "Loading file: /Users/azamkhan/speckled/Peeps/data/Subject data/PEV002_static_airspeck_automatic_home.csv\n",
      "Loading file: /Users/azamkhan/speckled/Peeps/data/Subject data/PEV002_static_airspeck_automatic_work.csv\n",
      "Loading file: /Users/azamkhan/speckled/Peeps/data/Subject data/PEV003_static_airspeck_automatic_home.csv\n",
      "Loading file: /Users/azamkhan/speckled/Peeps/data/Subject data/PEV003_static_airspeck_automatic_work.csv\n",
      "Loading file: /Users/azamkhan/speckled/Peeps/data/Subject data/PEV004_static_airspeck_automatic_home.csv\n",
      "Loading file: /Users/azamkhan/speckled/Peeps/data/Subject data/PEV004_static_airspeck_automatic_work.csv\n",
      "Loading file: /Users/azamkhan/speckled/Peeps/data/Subject data/PEV005_static_airspeck_automatic_home.csv\n",
      "Loading file: /Users/azamkhan/speckled/Peeps/data/Subject data/PEV005_static_airspeck_automatic_work.csv\n",
      "Loading file: /Users/azamkhan/speckled/Peeps/data/Subject data/PEV006_static_airspeck_automatic_home.csv\n",
      "Loading file: /Users/azamkhan/speckled/Peeps/data/Subject data/PEV006_static_airspeck_automatic_work.csv\n",
      "Loading file: /Users/azamkhan/speckled/Peeps/data/Subject data/PEV007_static_airspeck_automatic_home.csv\n",
      "Loading file: /Users/azamkhan/speckled/Peeps/data/Subject data/PEV007_static_airspeck_automatic_work.csv\n",
      "Loading file: /Users/azamkhan/speckled/Peeps/data/Subject data/PEV008_static_airspeck_automatic_home.csv\n",
      "Loading file: /Users/azamkhan/speckled/Peeps/data/Subject data/PEV008_static_airspeck_automatic_work.csv\n",
      "Loading file: /Users/azamkhan/speckled/Peeps/data/Subject data/PEV009_static_airspeck_automatic_home.csv\n",
      "Loading file: /Users/azamkhan/speckled/Peeps/data/Subject data/PEV009_static_airspeck_automatic_work.csv\n",
      "Loading file: /Users/azamkhan/speckled/Peeps/data/Subject data/PEV010_static_airspeck_automatic_home.csv\n",
      "Loading file: /Users/azamkhan/speckled/Peeps/data/Subject data/PEV010_static_airspeck_automatic_work.csv\n",
      "Loading file: /Users/azamkhan/speckled/Peeps/data/Subject data/PEV011_static_airspeck_automatic_home.csv\n",
      "Loading file: /Users/azamkhan/speckled/Peeps/data/Subject data/PEV011_static_airspeck_automatic_work.csv\n",
      "Loading file: /Users/azamkhan/speckled/Peeps/data/Subject data/PEV012_static_airspeck_automatic_home.csv\n",
      "Loading file: /Users/azamkhan/speckled/Peeps/data/Subject data/PEV012_static_airspeck_automatic_work.csv\n",
      "Loading file: /Users/azamkhan/speckled/Peeps/data/Subject data/PEV013_static_airspeck_automatic_home.csv\n",
      "Loading file: /Users/azamkhan/speckled/Peeps/data/Subject data/PEV013_static_airspeck_automatic_work.csv\n",
      "Loading file: /Users/azamkhan/speckled/Peeps/data/Subject data/PEV014_static_airspeck_automatic_home.csv\n",
      "Loading file: /Users/azamkhan/speckled/Peeps/data/Subject data/PEV014_static_airspeck_automatic_work.csv\n",
      "Loading file: /Users/azamkhan/speckled/Peeps/data/Subject data/PEV015_static_airspeck_automatic_home.csv\n",
      "Skipped file because it doesn't exist\n",
      "Loading file: /Users/azamkhan/speckled/Peeps/data/Subject data/PEV015_static_airspeck_automatic_work.csv\n",
      "Skipped file because it doesn't exist\n",
      "Loading file: /Users/azamkhan/speckled/Peeps/data/Subject data/PEV016_static_airspeck_automatic_home.csv\n",
      "Loading file: /Users/azamkhan/speckled/Peeps/data/Subject data/PEV016_static_airspeck_automatic_work.csv\n",
      "Loading file: /Users/azamkhan/speckled/Peeps/data/Subject data/PEV017_static_airspeck_automatic_home.csv\n",
      "Loading file: /Users/azamkhan/speckled/Peeps/data/Subject data/PEV017_static_airspeck_automatic_work.csv\n",
      "Loading file: /Users/azamkhan/speckled/Peeps/data/Subject data/PEV001 (Repeated)_static_airspeck_automatic_home.csv\n",
      "Skipped file because it doesn't exist\n",
      "Loading file: /Users/azamkhan/speckled/Peeps/data/Subject data/PEV001 (Repeated)_static_airspeck_automatic_work.csv\n",
      "Skipped file because it doesn't exist\n",
      "Loading file: /Users/azamkhan/speckled/Peeps/data/Subject data/PEV001_static_airspeck_automatic_home.csv\n",
      "Loading file: /Users/azamkhan/speckled/Peeps/data/Subject data/PEV001_static_airspeck_automatic_work.csv\n",
      "Loading file: /Users/azamkhan/speckled/Peeps/data/Subject data/PEV018_static_airspeck_automatic_home.csv\n",
      "Loading file: /Users/azamkhan/speckled/Peeps/data/Subject data/PEV018_static_airspeck_automatic_work.csv\n",
      "Loading file: /Users/azamkhan/speckled/Peeps/data/Subject data/PEV019_static_airspeck_automatic_home.csv\n",
      "Loading file: /Users/azamkhan/speckled/Peeps/data/Subject data/PEV019_static_airspeck_automatic_work.csv\n",
      "Loading file: /Users/azamkhan/speckled/Peeps/data/Subject data/PEV020_static_airspeck_automatic_home.csv\n",
      "Loading file: /Users/azamkhan/speckled/Peeps/data/Subject data/PEV020_static_airspeck_automatic_work.csv\n",
      "Loading file: /Users/azamkhan/speckled/Peeps/data/Subject data/PEV021_static_airspeck_automatic_home.csv\n",
      "Loading file: /Users/azamkhan/speckled/Peeps/data/Subject data/PEV021_static_airspeck_automatic_work.csv\n",
      "Loading file: /Users/azamkhan/speckled/Peeps/data/Subject data/PEV022_static_airspeck_automatic_home.csv\n",
      "Loading file: /Users/azamkhan/speckled/Peeps/data/Subject data/PEV022_static_airspeck_automatic_work.csv\n",
      "Loading file: /Users/azamkhan/speckled/Peeps/data/Subject data/PEV023_static_airspeck_automatic_home.csv\n",
      "Loading file: /Users/azamkhan/speckled/Peeps/data/Subject data/PEV023_static_airspeck_automatic_work.csv\n",
      "Loading file: /Users/azamkhan/speckled/Peeps/data/Subject data/PEV024_static_airspeck_automatic_home.csv\n",
      "Loading file: /Users/azamkhan/speckled/Peeps/data/Subject data/PEV024_static_airspeck_automatic_work.csv\n",
      "Loading file: /Users/azamkhan/speckled/Peeps/data/Subject data/PEV025_static_airspeck_automatic_home.csv\n",
      "Loading file: /Users/azamkhan/speckled/Peeps/data/Subject data/PEV025_static_airspeck_automatic_work.csv\n",
      "Loading file: /Users/azamkhan/speckled/Peeps/data/Subject data/PEV026_static_airspeck_automatic_home.csv\n",
      "Loading file: /Users/azamkhan/speckled/Peeps/data/Subject data/PEV026_static_airspeck_automatic_work.csv\n",
      "Loading file: /Users/azamkhan/speckled/Peeps/data/Subject data/PEV027_static_airspeck_automatic_home.csv\n",
      "Loading file: /Users/azamkhan/speckled/Peeps/data/Subject data/PEV027_static_airspeck_automatic_work.csv\n",
      "Loading file: /Users/azamkhan/speckled/Peeps/data/Subject data/PEV028_static_airspeck_automatic_home.csv\n",
      "Loading file: /Users/azamkhan/speckled/Peeps/data/Subject data/PEV028_static_airspeck_automatic_work.csv\n",
      "Loading file: /Users/azamkhan/speckled/Peeps/data/Subject data/PEV029_static_airspeck_automatic_home.csv\n",
      "Loading file: /Users/azamkhan/speckled/Peeps/data/Subject data/PEV029_static_airspeck_automatic_work.csv\n",
      "Loading file: /Users/azamkhan/speckled/Peeps/data/Subject data/PEV030_static_airspeck_automatic_home.csv\n",
      "Loading file: /Users/azamkhan/speckled/Peeps/data/Subject data/PEV030_static_airspeck_automatic_work.csv\n",
      "Loading file: /Users/azamkhan/speckled/Peeps/data/Subject data/PEV031_static_airspeck_automatic_home.csv\n",
      "Loading file: /Users/azamkhan/speckled/Peeps/data/Subject data/PEV031_static_airspeck_automatic_work.csv\n",
      "Loading file: /Users/azamkhan/speckled/Peeps/data/Subject data/PEV032_static_airspeck_automatic_home.csv\n",
      "Loading file: /Users/azamkhan/speckled/Peeps/data/Subject data/PEV032_static_airspeck_automatic_work.csv\n",
      "Loading file: /Users/azamkhan/speckled/Peeps/data/Subject data/PEV033_static_airspeck_automatic_home.csv\n",
      "Loading file: /Users/azamkhan/speckled/Peeps/data/Subject data/PEV033_static_airspeck_automatic_work.csv\n",
      "Loading file: /Users/azamkhan/speckled/Peeps/data/Subject data/PEV034_static_airspeck_automatic_home.csv\n",
      "Loading file: /Users/azamkhan/speckled/Peeps/data/Subject data/PEV034_static_airspeck_automatic_work.csv\n",
      "Loading file: /Users/azamkhan/speckled/Peeps/data/Subject data/PEV035_static_airspeck_automatic_home.csv\n",
      "Loading file: /Users/azamkhan/speckled/Peeps/data/Subject data/PEV035_static_airspeck_automatic_work.csv\n",
      "Loading file: /Users/azamkhan/speckled/Peeps/data/Subject data/PEV036_static_airspeck_automatic_home.csv\n",
      "Loading file: /Users/azamkhan/speckled/Peeps/data/Subject data/PEV036_static_airspeck_automatic_work.csv\n",
      "Loading file: /Users/azamkhan/speckled/Peeps/data/Subject data/PEV037_static_airspeck_automatic_home.csv\n",
      "Loading file: /Users/azamkhan/speckled/Peeps/data/Subject data/PEV037_static_airspeck_automatic_work.csv\n",
      "Loading file: /Users/azamkhan/speckled/Peeps/data/Subject data/PEV038_static_airspeck_automatic_home.csv\n",
      "Loading file: /Users/azamkhan/speckled/Peeps/data/Subject data/PEV038_static_airspeck_automatic_work.csv\n"
     ]
    },
    {
     "name": "stdout",
     "output_type": "stream",
     "text": [
      "Loading file: /Users/azamkhan/speckled/Peeps/data/Subject data/PEV039_static_airspeck_automatic_home.csv\n",
      "Loading file: /Users/azamkhan/speckled/Peeps/data/Subject data/PEV039_static_airspeck_automatic_work.csv\n",
      "Loading file: /Users/azamkhan/speckled/Peeps/data/Subject data/PEV040_static_airspeck_automatic_home.csv\n",
      "Loading file: /Users/azamkhan/speckled/Peeps/data/Subject data/PEV040_static_airspeck_automatic_work.csv\n",
      "Loading file: /Users/azamkhan/speckled/Peeps/data/Subject data/PEV015_static_airspeck_automatic_home.csv\n",
      "Skipped file because it doesn't exist\n",
      "Loading file: /Users/azamkhan/speckled/Peeps/data/Subject data/PEV015_static_airspeck_automatic_work.csv\n",
      "Skipped file because it doesn't exist\n",
      "Loading file: /Users/azamkhan/speckled/Peeps/data/Subject data/PEV041_static_airspeck_automatic_home.csv\n",
      "Loading file: /Users/azamkhan/speckled/Peeps/data/Subject data/PEV041_static_airspeck_automatic_work.csv\n",
      "Loading file: /Users/azamkhan/speckled/Peeps/data/Subject data/PEV042_static_airspeck_automatic_home.csv\n",
      "Loading file: /Users/azamkhan/speckled/Peeps/data/Subject data/PEV042_static_airspeck_automatic_work.csv\n",
      "Loading file: /Users/azamkhan/speckled/Peeps/data/Subject data/PEV044_static_airspeck_automatic_home.csv\n",
      "Loading file: /Users/azamkhan/speckled/Peeps/data/Subject data/PEV044_static_airspeck_automatic_work.csv\n",
      "Loading file: /Users/azamkhan/speckled/Peeps/data/Subject data/PEV045_static_airspeck_automatic_home.csv\n",
      "Loading file: /Users/azamkhan/speckled/Peeps/data/Subject data/PEV045_static_airspeck_automatic_work.csv\n",
      "Loading file: /Users/azamkhan/speckled/Peeps/data/Subject data/PEV046_static_airspeck_automatic_home.csv\n",
      "Loading file: /Users/azamkhan/speckled/Peeps/data/Subject data/PEV046_static_airspeck_automatic_work.csv\n",
      "Loading file: /Users/azamkhan/speckled/Peeps/data/Subject data/PEV047_static_airspeck_automatic_home.csv\n",
      "Loading file: /Users/azamkhan/speckled/Peeps/data/Subject data/PEV047_static_airspeck_automatic_work.csv\n",
      "Loading file: /Users/azamkhan/speckled/Peeps/data/Subject data/PEV048_static_airspeck_automatic_home.csv\n",
      "Loading file: /Users/azamkhan/speckled/Peeps/data/Subject data/PEV048_static_airspeck_automatic_work.csv\n",
      "Loading file: /Users/azamkhan/speckled/Peeps/data/Subject data/PEV049_static_airspeck_automatic_home.csv\n",
      "Loading file: /Users/azamkhan/speckled/Peeps/data/Subject data/PEV049_static_airspeck_automatic_work.csv\n",
      "Loading file: /Users/azamkhan/speckled/Peeps/data/Subject data/PEV050_static_airspeck_automatic_home.csv\n",
      "Loading file: /Users/azamkhan/speckled/Peeps/data/Subject data/PEV050_static_airspeck_automatic_work.csv\n",
      "Loading file: /Users/azamkhan/speckled/Peeps/data/Subject data/PEV051_static_airspeck_automatic_home.csv\n",
      "Loading file: /Users/azamkhan/speckled/Peeps/data/Subject data/PEV051_static_airspeck_automatic_work.csv\n",
      "Loading file: /Users/azamkhan/speckled/Peeps/data/Subject data/PEV052_static_airspeck_automatic_home.csv\n",
      "Loading file: /Users/azamkhan/speckled/Peeps/data/Subject data/PEV052_static_airspeck_automatic_work.csv\n",
      "Loading file: /Users/azamkhan/speckled/Peeps/data/Subject data/PEV043_static_airspeck_automatic_home.csv\n",
      "Loading file: /Users/azamkhan/speckled/Peeps/data/Subject data/PEV043_static_airspeck_automatic_work.csv\n",
      "Loading file: /Users/azamkhan/speckled/Peeps/data/Subject data/PEV053_static_airspeck_automatic_home.csv\n",
      "Loading file: /Users/azamkhan/speckled/Peeps/data/Subject data/PEV053_static_airspeck_automatic_work.csv\n",
      "Loading file: /Users/azamkhan/speckled/Peeps/data/Subject data/PEV054_static_airspeck_automatic_home.csv\n",
      "Loading file: /Users/azamkhan/speckled/Peeps/data/Subject data/PEV054_static_airspeck_automatic_work.csv\n",
      "Loading file: /Users/azamkhan/speckled/Peeps/data/Subject data/PEV055_static_airspeck_automatic_home.csv\n",
      "Loading file: /Users/azamkhan/speckled/Peeps/data/Subject data/PEV055_static_airspeck_automatic_work.csv\n",
      "Loading file: /Users/azamkhan/speckled/Peeps/data/Subject data/PEV056_static_airspeck_automatic_home.csv\n",
      "Loading file: /Users/azamkhan/speckled/Peeps/data/Subject data/PEV056_static_airspeck_automatic_work.csv\n",
      "Loading file: /Users/azamkhan/speckled/Peeps/data/Subject data/PEV057_static_airspeck_automatic_home.csv\n",
      "Loading file: /Users/azamkhan/speckled/Peeps/data/Subject data/PEV057_static_airspeck_automatic_work.csv\n",
      "Loading file: /Users/azamkhan/speckled/Peeps/data/Subject data/PEV058_static_airspeck_automatic_home.csv\n",
      "Loading file: /Users/azamkhan/speckled/Peeps/data/Subject data/PEV058_static_airspeck_automatic_work.csv\n",
      "Loading file: /Users/azamkhan/speckled/Peeps/data/Subject data/PEV059_static_airspeck_automatic_home.csv\n",
      "Loading file: /Users/azamkhan/speckled/Peeps/data/Subject data/PEV059_static_airspeck_automatic_work.csv\n",
      "Loading file: /Users/azamkhan/speckled/Peeps/data/Subject data/PEV060_static_airspeck_automatic_home.csv\n",
      "Loading file: /Users/azamkhan/speckled/Peeps/data/Subject data/PEV060_static_airspeck_automatic_work.csv\n",
      "Loading file: /Users/azamkhan/speckled/Peeps/data/Subject data/PEV061_static_airspeck_automatic_home.csv\n",
      "Loading file: /Users/azamkhan/speckled/Peeps/data/Subject data/PEV061_static_airspeck_automatic_work.csv\n",
      "Loading file: /Users/azamkhan/speckled/Peeps/data/Subject data/PEV062_static_airspeck_automatic_home.csv\n",
      "Loading file: /Users/azamkhan/speckled/Peeps/data/Subject data/PEV062_static_airspeck_automatic_work.csv\n",
      "Loading file: /Users/azamkhan/speckled/Peeps/data/Subject data/PEV063_static_airspeck_automatic_home.csv\n",
      "Loading file: /Users/azamkhan/speckled/Peeps/data/Subject data/PEV063_static_airspeck_automatic_work.csv\n",
      "Loading file: /Users/azamkhan/speckled/Peeps/data/Subject data/PEV064_static_airspeck_automatic_home.csv\n",
      "Loading file: /Users/azamkhan/speckled/Peeps/data/Subject data/PEV064_static_airspeck_automatic_work.csv\n",
      "Loading file: /Users/azamkhan/speckled/Peeps/data/Subject data/PEV065_static_airspeck_automatic_home.csv\n",
      "Loading file: /Users/azamkhan/speckled/Peeps/data/Subject data/PEV065_static_airspeck_automatic_work.csv\n",
      "Loading file: /Users/azamkhan/speckled/Peeps/data/Subject data/PEV066_static_airspeck_automatic_home.csv\n",
      "Loading file: /Users/azamkhan/speckled/Peeps/data/Subject data/PEV066_static_airspeck_automatic_work.csv\n",
      "Loading file: /Users/azamkhan/speckled/Peeps/data/Subject data/PEV067_static_airspeck_automatic_home.csv\n",
      "Loading file: /Users/azamkhan/speckled/Peeps/data/Subject data/PEV067_static_airspeck_automatic_work.csv\n",
      "Loading file: /Users/azamkhan/speckled/Peeps/data/Subject data/PEV068_static_airspeck_automatic_home.csv\n",
      "Loading file: /Users/azamkhan/speckled/Peeps/data/Subject data/PEV068_static_airspeck_automatic_work.csv\n",
      "Loading file: /Users/azamkhan/speckled/Peeps/data/Subject data/PEV069_static_airspeck_automatic_home.csv\n",
      "Loading file: /Users/azamkhan/speckled/Peeps/data/Subject data/PEV069_static_airspeck_automatic_work.csv\n",
      "Loading file: /Users/azamkhan/speckled/Peeps/data/Subject data/PEV070_static_airspeck_automatic_home.csv\n",
      "Loading file: /Users/azamkhan/speckled/Peeps/data/Subject data/PEV070_static_airspeck_automatic_work.csv\n",
      "Loading file: /Users/azamkhan/speckled/Peeps/data/Subject data/PEV071_static_airspeck_automatic_home.csv\n",
      "Loading file: /Users/azamkhan/speckled/Peeps/data/Subject data/PEV071_static_airspeck_automatic_work.csv\n",
      "Loading file: /Users/azamkhan/speckled/Peeps/data/Subject data/PEV072_static_airspeck_automatic_home.csv\n",
      "Loading file: /Users/azamkhan/speckled/Peeps/data/Subject data/PEV072_static_airspeck_automatic_work.csv\n"
     ]
    }
   ],
   "source": [
    "#Loading all Airspeck-S files into one dataframe\n",
    "peeps_static_df = loading_peeps_static()"
   ]
  },
  {
   "cell_type": "markdown",
   "metadata": {},
   "source": [
    "## Preprocessing static files"
   ]
  },
  {
   "cell_type": "code",
   "execution_count": 4,
   "metadata": {},
   "outputs": [],
   "source": [
    "static_peeps = preprocessing_peeps_static(peeps_static_df)"
   ]
  },
  {
   "cell_type": "code",
   "execution_count": 10,
   "metadata": {},
   "outputs": [],
   "source": [
    "#Save preprocessed static dataframe\n",
    "static_peeps.to_csv(\"peeps_test.csv\")"
   ]
  },
  {
   "cell_type": "markdown",
   "metadata": {},
   "source": [
    "# Personal Files"
   ]
  },
  {
   "cell_type": "markdown",
   "metadata": {},
   "source": [
    "## Loading Files"
   ]
  },
  {
   "cell_type": "code",
   "execution_count": 5,
   "metadata": {},
   "outputs": [
    {
     "name": "stdout",
     "output_type": "stream",
     "text": [
      "Loading file: /Users/azamkhan/speckled/Peeps/data/Subject data/PEV002_airspeck_personal_manual_raw.csv\n",
      "Loading file: /Users/azamkhan/speckled/Peeps/data/Subject data/PEV003_airspeck_personal_manual_raw.csv\n",
      "Setting 3 values equal to or below 0 to nan\n",
      "Loading file: /Users/azamkhan/speckled/Peeps/data/Subject data/PEV004_airspeck_personal_manual_raw.csv\n",
      "Setting 2 values equal to or below 0 to nan\n",
      "Loading file: /Users/azamkhan/speckled/Peeps/data/Subject data/PEV005_airspeck_personal_manual_raw.csv\n",
      "Setting 1 values equal to or below 0 to nan\n",
      "Loading file: /Users/azamkhan/speckled/Peeps/data/Subject data/PEV006_airspeck_personal_manual_raw.csv\n",
      "Loading file: /Users/azamkhan/speckled/Peeps/data/Subject data/PEV007_airspeck_personal_manual_raw.csv\n",
      "Setting 46 values equal to or below 0 to nan\n",
      "Loading file: /Users/azamkhan/speckled/Peeps/data/Subject data/PEV008_airspeck_personal_manual_raw.csv\n",
      "Loading file: /Users/azamkhan/speckled/Peeps/data/Subject data/PEV009_airspeck_personal_manual_raw.csv\n",
      "Setting 6 values equal to or below 0 to nan\n",
      "Loading file: /Users/azamkhan/speckled/Peeps/data/Subject data/PEV010_airspeck_personal_manual_raw.csv\n",
      "Setting 5 values equal to or below 0 to nan\n",
      "Loading file: /Users/azamkhan/speckled/Peeps/data/Subject data/PEV011_airspeck_personal_manual_raw.csv\n",
      "Setting 2 values equal to or below 0 to nan\n",
      "Loading file: /Users/azamkhan/speckled/Peeps/data/Subject data/PEV012_airspeck_personal_manual_raw.csv\n",
      "Setting 3 values equal to or below 0 to nan\n",
      "Loading file: /Users/azamkhan/speckled/Peeps/data/Subject data/PEV013_airspeck_personal_manual_raw.csv\n",
      "Setting 1 values equal to or below 0 to nan\n",
      "Loading file: /Users/azamkhan/speckled/Peeps/data/Subject data/PEV014_airspeck_personal_manual_raw.csv\n",
      "Loading file: /Users/azamkhan/speckled/Peeps/data/Subject data/PEV015_airspeck_personal_manual_raw.csv\n",
      "Skipped file because it doesn't exist\n",
      "Loading file: /Users/azamkhan/speckled/Peeps/data/Subject data/PEV016_airspeck_personal_manual_raw.csv\n",
      "Setting 5896 values equal to or below 0 to nan\n",
      "Loading file: /Users/azamkhan/speckled/Peeps/data/Subject data/PEV017_airspeck_personal_manual_raw.csv\n",
      "Setting 4 values equal to or below 0 to nan\n",
      "Loading file: /Users/azamkhan/speckled/Peeps/data/Subject data/PEV001 (Repeated)_airspeck_personal_manual_raw.csv\n",
      "Skipped file because it doesn't exist\n",
      "Loading file: /Users/azamkhan/speckled/Peeps/data/Subject data/PEV001_airspeck_personal_manual_raw.csv\n",
      "Setting 1 values equal to or below 0 to nan\n",
      "Loading file: /Users/azamkhan/speckled/Peeps/data/Subject data/PEV018_airspeck_personal_manual_raw.csv\n",
      "Setting 2 values equal to or below 0 to nan\n",
      "Loading file: /Users/azamkhan/speckled/Peeps/data/Subject data/PEV019_airspeck_personal_manual_raw.csv\n",
      "Loading file: /Users/azamkhan/speckled/Peeps/data/Subject data/PEV020_airspeck_personal_manual_raw.csv\n",
      "Loading file: /Users/azamkhan/speckled/Peeps/data/Subject data/PEV021_airspeck_personal_manual_raw.csv\n",
      "Setting 7 values equal to or below 0 to nan\n",
      "Loading file: /Users/azamkhan/speckled/Peeps/data/Subject data/PEV022_airspeck_personal_manual_raw.csv\n",
      "Loading file: /Users/azamkhan/speckled/Peeps/data/Subject data/PEV023_airspeck_personal_manual_raw.csv\n",
      "Loading file: /Users/azamkhan/speckled/Peeps/data/Subject data/PEV024_airspeck_personal_manual_raw.csv\n",
      "Setting 1 values equal to or below 0 to nan\n",
      "Loading file: /Users/azamkhan/speckled/Peeps/data/Subject data/PEV025_airspeck_personal_manual_raw.csv\n",
      "Setting 1 values equal to or below 0 to nan\n",
      "Loading file: /Users/azamkhan/speckled/Peeps/data/Subject data/PEV026_airspeck_personal_manual_raw.csv\n",
      "Setting 2 values equal to or below 0 to nan\n",
      "Loading file: /Users/azamkhan/speckled/Peeps/data/Subject data/PEV027_airspeck_personal_manual_raw.csv\n",
      "Setting 1 values equal to or below 0 to nan\n",
      "Loading file: /Users/azamkhan/speckled/Peeps/data/Subject data/PEV028_airspeck_personal_manual_raw.csv\n",
      "Setting 6 values equal to or below 0 to nan\n",
      "Loading file: /Users/azamkhan/speckled/Peeps/data/Subject data/PEV029_airspeck_personal_manual_raw.csv\n",
      "Setting 1 values equal to or below 0 to nan\n",
      "Loading file: /Users/azamkhan/speckled/Peeps/data/Subject data/PEV030_airspeck_personal_manual_raw.csv\n",
      "Loading file: /Users/azamkhan/speckled/Peeps/data/Subject data/PEV031_airspeck_personal_manual_raw.csv\n",
      "Setting 1 values equal to or below 0 to nan\n",
      "Loading file: /Users/azamkhan/speckled/Peeps/data/Subject data/PEV032_airspeck_personal_manual_raw.csv\n",
      "Loading file: /Users/azamkhan/speckled/Peeps/data/Subject data/PEV033_airspeck_personal_manual_raw.csv\n",
      "Loading file: /Users/azamkhan/speckled/Peeps/data/Subject data/PEV034_airspeck_personal_manual_raw.csv\n",
      "Setting 1 values equal to or below 0 to nan\n",
      "Loading file: /Users/azamkhan/speckled/Peeps/data/Subject data/PEV035_airspeck_personal_manual_raw.csv\n",
      "Loading file: /Users/azamkhan/speckled/Peeps/data/Subject data/PEV036_airspeck_personal_manual_raw.csv\n",
      "Loading file: /Users/azamkhan/speckled/Peeps/data/Subject data/PEV037_airspeck_personal_manual_raw.csv\n",
      "Setting 2 values equal to or below 0 to nan\n",
      "Loading file: /Users/azamkhan/speckled/Peeps/data/Subject data/PEV038_airspeck_personal_manual_raw.csv\n",
      "Setting 3 values equal to or below 0 to nan\n",
      "Loading file: /Users/azamkhan/speckled/Peeps/data/Subject data/PEV039_airspeck_personal_manual_raw.csv\n",
      "Setting 1 values equal to or below 0 to nan\n",
      "Loading file: /Users/azamkhan/speckled/Peeps/data/Subject data/PEV040_airspeck_personal_manual_raw.csv\n",
      "Setting 2 values equal to or below 0 to nan\n",
      "Loading file: /Users/azamkhan/speckled/Peeps/data/Subject data/PEV015_airspeck_personal_manual_raw.csv\n",
      "Skipped file because it doesn't exist\n",
      "Loading file: /Users/azamkhan/speckled/Peeps/data/Subject data/PEV041_airspeck_personal_manual_raw.csv\n",
      "Setting 2 values equal to or below 0 to nan\n",
      "Loading file: /Users/azamkhan/speckled/Peeps/data/Subject data/PEV042_airspeck_personal_manual_raw.csv\n",
      "Setting 1 values equal to or below 0 to nan\n",
      "Loading file: /Users/azamkhan/speckled/Peeps/data/Subject data/PEV044_airspeck_personal_manual_raw.csv\n",
      "Setting 1 values equal to or below 0 to nan\n",
      "Loading file: /Users/azamkhan/speckled/Peeps/data/Subject data/PEV045_airspeck_personal_manual_raw.csv\n",
      "Loading file: /Users/azamkhan/speckled/Peeps/data/Subject data/PEV046_airspeck_personal_manual_raw.csv\n",
      "Loading file: /Users/azamkhan/speckled/Peeps/data/Subject data/PEV047_airspeck_personal_manual_raw.csv\n",
      "Loading file: /Users/azamkhan/speckled/Peeps/data/Subject data/PEV048_airspeck_personal_manual_raw.csv\n",
      "Setting 109 values equal to or below 0 to nan\n",
      "Loading file: /Users/azamkhan/speckled/Peeps/data/Subject data/PEV049_airspeck_personal_manual_raw.csv\n",
      "Setting 2 values equal to or below 0 to nan\n",
      "Loading file: /Users/azamkhan/speckled/Peeps/data/Subject data/PEV050_airspeck_personal_manual_raw.csv\n",
      "Setting 10 values equal to or below 0 to nan\n",
      "Loading file: /Users/azamkhan/speckled/Peeps/data/Subject data/PEV051_airspeck_personal_manual_raw.csv\n",
      "Loading file: /Users/azamkhan/speckled/Peeps/data/Subject data/PEV052_airspeck_personal_manual_raw.csv\n",
      "Loading file: /Users/azamkhan/speckled/Peeps/data/Subject data/PEV043_airspeck_personal_manual_raw.csv\n",
      "Setting 2 values equal to or below 0 to nan\n",
      "Loading file: /Users/azamkhan/speckled/Peeps/data/Subject data/PEV053_airspeck_personal_manual_raw.csv\n",
      "Setting 5 values equal to or below 0 to nan\n",
      "Loading file: /Users/azamkhan/speckled/Peeps/data/Subject data/PEV054_airspeck_personal_manual_raw.csv\n",
      "Setting 1 values equal to or below 0 to nan\n",
      "Loading file: /Users/azamkhan/speckled/Peeps/data/Subject data/PEV055_airspeck_personal_manual_raw.csv\n",
      "Setting 9 values equal to or below 0 to nan\n",
      "Loading file: /Users/azamkhan/speckled/Peeps/data/Subject data/PEV056_airspeck_personal_manual_raw.csv\n",
      "Setting 11654 values equal to or below 0 to nan\n",
      "Loading file: /Users/azamkhan/speckled/Peeps/data/Subject data/PEV057_airspeck_personal_manual_raw.csv\n",
      "Setting 36 values equal to or below 0 to nan\n",
      "Loading file: /Users/azamkhan/speckled/Peeps/data/Subject data/PEV058_airspeck_personal_manual_raw.csv\n",
      "Setting 2 values equal to or below 0 to nan\n",
      "Loading file: /Users/azamkhan/speckled/Peeps/data/Subject data/PEV059_airspeck_personal_manual_raw.csv\n",
      "Setting 1 values equal to or below 0 to nan\n",
      "Loading file: /Users/azamkhan/speckled/Peeps/data/Subject data/PEV060_airspeck_personal_manual_raw.csv\n"
     ]
    },
    {
     "name": "stdout",
     "output_type": "stream",
     "text": [
      "Loading file: /Users/azamkhan/speckled/Peeps/data/Subject data/PEV061_airspeck_personal_manual_raw.csv\n",
      "Setting 1 values equal to or below 0 to nan\n",
      "Loading file: /Users/azamkhan/speckled/Peeps/data/Subject data/PEV062_airspeck_personal_manual_raw.csv\n",
      "Setting 4 values equal to or below 0 to nan\n",
      "Loading file: /Users/azamkhan/speckled/Peeps/data/Subject data/PEV063_airspeck_personal_manual_raw.csv\n",
      "Setting 125 values equal to or below 0 to nan\n",
      "Loading file: /Users/azamkhan/speckled/Peeps/data/Subject data/PEV064_airspeck_personal_manual_raw.csv\n",
      "Setting 2 values equal to or below 0 to nan\n",
      "Loading file: /Users/azamkhan/speckled/Peeps/data/Subject data/PEV065_airspeck_personal_manual_raw.csv\n",
      "Loading file: /Users/azamkhan/speckled/Peeps/data/Subject data/PEV066_airspeck_personal_manual_raw.csv\n",
      "Loading file: /Users/azamkhan/speckled/Peeps/data/Subject data/PEV067_airspeck_personal_manual_raw.csv\n",
      "Setting 1320 values equal to or below 0 to nan\n",
      "Loading file: /Users/azamkhan/speckled/Peeps/data/Subject data/PEV068_airspeck_personal_manual_raw.csv\n",
      "Setting 1 values equal to or below 0 to nan\n",
      "Loading file: /Users/azamkhan/speckled/Peeps/data/Subject data/PEV069_airspeck_personal_manual_raw.csv\n",
      "Loading file: /Users/azamkhan/speckled/Peeps/data/Subject data/PEV070_airspeck_personal_manual_raw.csv\n",
      "Setting 3 values equal to or below 0 to nan\n",
      "Loading file: /Users/azamkhan/speckled/Peeps/data/Subject data/PEV071_airspeck_personal_manual_raw.csv\n",
      "Loading file: /Users/azamkhan/speckled/Peeps/data/Subject data/PEV072_airspeck_personal_manual_raw.csv\n",
      "Setting 7 values equal to or below 0 to nan\n"
     ]
    }
   ],
   "source": [
    "#Loading all Airspeck-P files into one dataframe\n",
    "peeps_personal_df = loading_peeps_personal()"
   ]
  },
  {
   "cell_type": "markdown",
   "metadata": {},
   "source": [
    "## Preprocessing Personal Files"
   ]
  },
  {
   "cell_type": "code",
   "execution_count": 8,
   "metadata": {},
   "outputs": [
    {
     "name": "stdout",
     "output_type": "stream",
     "text": [
      "                               pm2_5  hour_of_day day_of_week  humidity  \\\n",
      "timestamp                                                                 \n",
      "2018-12-17 11:26:00+05:30  67.496367           11      Monday      44.5   \n",
      "2018-12-17 11:27:00+05:30  63.740506           11      Monday      69.6   \n",
      "2018-12-17 11:28:00+05:30  66.239628           11      Monday      69.6   \n",
      "2018-12-17 11:29:00+05:30  63.791646           11      Monday      69.6   \n",
      "2018-12-17 11:30:00+05:30  62.444813           11      Monday      69.6   \n",
      "...                              ...          ...         ...       ...   \n",
      "2018-12-17 13:01:00+05:30  27.601087           13      Monday      33.1   \n",
      "2018-12-17 13:02:00+05:30  25.657204           13      Monday      72.8   \n",
      "2018-12-17 13:03:00+05:30  27.595883           13      Monday      72.8   \n",
      "2018-12-17 13:04:00+05:30  28.277628           13      Monday      72.8   \n",
      "2018-12-17 13:05:00+05:30  29.241758           13      Monday      72.8   \n",
      "\n",
      "                           gpsLongitude  gpsLatitude  closest_pm  \\\n",
      "timestamp                                                          \n",
      "2018-12-17 11:26:00+05:30     77.207692    28.629123  165.031754   \n",
      "2018-12-17 11:27:00+05:30     77.208000    28.628589  113.139107   \n",
      "2018-12-17 11:28:00+05:30     77.208225    28.633647  113.139107   \n",
      "2018-12-17 11:29:00+05:30     77.207692    28.630761  113.139107   \n",
      "2018-12-17 11:30:00+05:30     77.208052    28.631000  113.139107   \n",
      "...                                 ...          ...         ...   \n",
      "2018-12-17 13:01:00+05:30     77.209438    28.641781  131.941483   \n",
      "2018-12-17 13:02:00+05:30     77.209438    28.641781   84.785156   \n",
      "2018-12-17 13:03:00+05:30     77.209438    28.641781   84.785156   \n",
      "2018-12-17 13:04:00+05:30     77.208976    28.639075   84.785156   \n",
      "2018-12-17 13:05:00+05:30     77.209438    28.641781   84.785156   \n",
      "\n",
      "                           dist_to_closest_pm     closest_pm_id  \n",
      "timestamp                                                        \n",
      "2018-12-17 11:26:00+05:30           18.170508  E786F1568F65C296  \n",
      "2018-12-17 11:27:00+05:30            6.329535  3226265E938C7D1D  \n",
      "2018-12-17 11:28:00+05:30            6.800481  3226265E938C7D1D  \n",
      "2018-12-17 11:29:00+05:30            6.550498  3226265E938C7D1D  \n",
      "2018-12-17 11:30:00+05:30            6.555037  3226265E938C7D1D  \n",
      "...                                       ...               ...  \n",
      "2018-12-17 13:01:00+05:30           17.749673  E786F1568F65C296  \n",
      "2018-12-17 13:02:00+05:30            7.548081  3226265E938C7D1D  \n",
      "2018-12-17 13:03:00+05:30            7.548081  3226265E938C7D1D  \n",
      "2018-12-17 13:04:00+05:30            7.297771  3226265E938C7D1D  \n",
      "2018-12-17 13:05:00+05:30            7.548081  3226265E938C7D1D  \n",
      "\n",
      "[100 rows x 9 columns]\n"
     ]
    },
    {
     "name": "stderr",
     "output_type": "stream",
     "text": [
      "/Users/azamkhan/miniconda3/envs/pdiot/lib/python3.7/site-packages/pandas/core/computation/expressions.py:68: FutureWarning: elementwise comparison failed; returning scalar instead, but in the future will perform elementwise comparison\n",
      "  return op(a, b)\n"
     ]
    }
   ],
   "source": [
    "#Preprocess and remove outliers\n",
    "personal_peeps = preprocessing_peeps_personal(peeps_personal_df, static_peeps)"
   ]
  },
  {
   "cell_type": "code",
   "execution_count": 10,
   "metadata": {},
   "outputs": [],
   "source": [
    "#Save preprocessed mobile data\n",
    "personal_peeps.to_csv(\"peeps_new.csv\")"
   ]
  },
  {
   "cell_type": "markdown",
   "metadata": {},
   "source": [
    "# Making Spatial-T Dataset\n"
   ]
  },
  {
   "cell_type": "code",
   "execution_count": null,
   "metadata": {},
   "outputs": [],
   "source": [
    "peeps_s = pd.read_csv(\"peeps_test.csv\")\n",
    "peeps_s = peeps_s.reset_index()"
   ]
  },
  {
   "cell_type": "code",
   "execution_count": null,
   "metadata": {},
   "outputs": [],
   "source": [
    "peeps_s['timestamp'] = peeps_s['timestamp'].apply(lambda x: pd.to_datetime(x).tz_convert('Asia/Kolkata'))"
   ]
  },
  {
   "cell_type": "code",
   "execution_count": null,
   "metadata": {},
   "outputs": [],
   "source": [
    "peeps_s = peeps_s.set_index(\"timestamp\")"
   ]
  },
  {
   "cell_type": "code",
   "execution_count": null,
   "metadata": {},
   "outputs": [],
   "source": [
    "peeps_p = pd.read_csv(\"peeps_new.csv\")\n",
    "peeps_p = peeps_p.reset_index()\n",
    "#peeps_p = peeps_p.drop(\"Unnamed: 0\", axis=1) #Uncomment if needed"
   ]
  },
  {
   "cell_type": "code",
   "execution_count": null,
   "metadata": {},
   "outputs": [],
   "source": [
    "peeps_p['timestamp'] = peeps_p['timestamp'].apply(lambda x: pd.to_datetime(x).tz_convert('Asia/Kolkata'))"
   ]
  },
  {
   "cell_type": "code",
   "execution_count": null,
   "metadata": {},
   "outputs": [],
   "source": [
    "def closest_pred_value(row, dataframe, window_size):\n",
    "    uuid1 = row['closest_pm_id']#.item()\n",
    "\n",
    "    \n",
    "    ts = row['timestamp']\n",
    "    date = str(ts.date())\n",
    "    pm = row['closest_pm']\n",
    "    \n",
    "    first = ts - timedelta(minutes=window_size)\n",
    "    last = ts + timedelta(minutes=0)\n",
    "    first = str(first.time())\n",
    "    last = str(last.time())\n",
    "    \n",
    "    lag = dataframe[dataframe.UUID == uuid1].loc[date].between_time(first, last)['pm2_5'].values\n",
    "    \n",
    "    if (len(lag) > 0):\n",
    "        return pd.Series([np.mean(lag[-3:]), np.mean(lag[-6:]), np.mean(lag)])\n",
    "    else:\n",
    "        return pd.Series([pm, pm, pm])\n",
    "            \n",
    "#     try:\n",
    "#         lag = dataframe[dataframe.UUID == uuid1].loc[date].between_time(first, last)['pm2_5'].values\n",
    "#         return pd.Series([np.mean(lag[-3:]), np.mean(lag[-6:]), np.mean(lag)]) \n",
    "#     except:\n",
    "#         return 0"
   ]
  },
  {
   "cell_type": "code",
   "execution_count": null,
   "metadata": {},
   "outputs": [],
   "source": [
    "test = peeps_p.copy()"
   ]
  },
  {
   "cell_type": "code",
   "execution_count": null,
   "metadata": {},
   "outputs": [],
   "source": [
    "test[['15min_avg', '30min_avg','60min_avg']] = test.parallel_apply(lambda row: closest_pred_value(row, peeps_s, 60), axis=1)"
   ]
  },
  {
   "cell_type": "code",
   "execution_count": null,
   "metadata": {},
   "outputs": [],
   "source": [
    "test.to_csv(\"peeps_spatial_T.csv\")"
   ]
  }
 ],
 "metadata": {
  "kernelspec": {
   "display_name": "Python 3",
   "language": "python",
   "name": "python3"
  },
  "language_info": {
   "codemirror_mode": {
    "name": "ipython",
    "version": 3
   },
   "file_extension": ".py",
   "mimetype": "text/x-python",
   "name": "python",
   "nbconvert_exporter": "python",
   "pygments_lexer": "ipython3",
   "version": "3.7.9"
  },
  "toc": {
   "base_numbering": 1,
   "nav_menu": {},
   "number_sections": true,
   "sideBar": true,
   "skip_h1_title": false,
   "title_cell": "Table of Contents",
   "title_sidebar": "Contents",
   "toc_cell": false,
   "toc_position": {},
   "toc_section_display": true,
   "toc_window_display": false
  }
 },
 "nbformat": 4,
 "nbformat_minor": 4
}
