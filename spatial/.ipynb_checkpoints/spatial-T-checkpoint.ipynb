{
 "cells": [
  {
   "cell_type": "markdown",
   "metadata": {},
   "source": [
    "# Importing libraries"
   ]
  },
  {
   "cell_type": "code",
   "execution_count": 1,
   "metadata": {},
   "outputs": [],
   "source": [
    "%matplotlib inline\n",
    "%load_ext autoreload\n",
    "%autoreload 2\n",
    "from basic_imports import *\n",
    "import pandas\n",
    "\n",
    "from math import radians, cos, sin, asin, sqrt\n",
    "\n",
    "import folium\n",
    "import datetime\n",
    "from constants import *\n",
    "from load_files import *\n",
    "from scipy.stats import *\n",
    "from scipy import spatial\n",
    "from sklearn.linear_model import LinearRegression, Ridge, Lasso\n",
    "from sklearn.model_selection import train_test_split\n",
    "from sklearn.metrics import r2_score, mean_squared_error, mean_absolute_error\n",
    "import statsmodels.api as sm\n",
    "import numpy as np"
   ]
  },
  {
   "cell_type": "code",
   "execution_count": 2,
   "metadata": {},
   "outputs": [],
   "source": [
    "from sklearn.ensemble import ExtraTreesRegressor\n",
    "from sklearn.ensemble import RandomForestRegressor"
   ]
  },
  {
   "cell_type": "code",
   "execution_count": 3,
   "metadata": {},
   "outputs": [],
   "source": [
    "from tabulate import tabulate"
   ]
  },
  {
   "cell_type": "code",
   "execution_count": 4,
   "metadata": {},
   "outputs": [],
   "source": [
    "def mean_absolute_percentage_error(y_true, y_pred):\n",
    "    #y_true, y_pred = np.array(y_true), np.array(y_pred)\n",
    "    return np.mean(np.abs((y_true - y_pred) / y_true)) * 100"
   ]
  },
  {
   "cell_type": "markdown",
   "metadata": {},
   "source": [
    "## RoadTypes"
   ]
  },
  {
   "cell_type": "code",
   "execution_count": 5,
   "metadata": {},
   "outputs": [],
   "source": [
    "import pandas as pd\n",
    "rd = pd.read_csv('road_dict.csv', header=0).to_dict('records')\n",
    "road_dict = rd[0]"
   ]
  },
  {
   "cell_type": "code",
   "execution_count": 6,
   "metadata": {},
   "outputs": [],
   "source": [
    "road_dict = rd[0]"
   ]
  },
  {
   "cell_type": "code",
   "execution_count": 7,
   "metadata": {},
   "outputs": [
    {
     "data": {
      "text/plain": [
       "{'residential': 4,\n",
       " 'living_street': 4,\n",
       " 'tertiary': 3,\n",
       " 'trunk': 0,\n",
       " 'secondary': 2,\n",
       " 'primary': 1,\n",
       " 'pedestrian': 4,\n",
       " 'tertiary_link': 3,\n",
       " 'trunk_link': 0,\n",
       " 'primary_link': 1,\n",
       " 'secondary_link': 2}"
      ]
     },
     "execution_count": 7,
     "metadata": {},
     "output_type": "execute_result"
    }
   ],
   "source": [
    "road_dict"
   ]
  },
  {
   "cell_type": "markdown",
   "metadata": {},
   "source": [
    "# Loading Datasets"
   ]
  },
  {
   "cell_type": "code",
   "execution_count": 8,
   "metadata": {},
   "outputs": [],
   "source": [
    "peeps = pd.read_csv(\"../preprocessing/peeps_spatial_T.csv\")\n",
    "peeps = peeps.drop('Unnamed: 0', axis =1)\n",
    "peeps = peeps.replace({\"roadType\": road_dict})"
   ]
  },
  {
   "cell_type": "code",
   "execution_count": 9,
   "metadata": {},
   "outputs": [],
   "source": [
    "leon = pd.read_csv(\"../preprocessing/leon_spatial_T.csv\")\n",
    "leon = leon.drop(['Unnamed: 0', 'walk'], axis =1)\n",
    "leon = leon.replace({\"roadType\": road_dict})\n",
    "guadalajara = pd.read_csv(\"../preprocessing/guadalajara_spatial_T.csv\")\n",
    "guadalajara = guadalajara.drop(['Unnamed: 0', 'walk'], axis =1)\n",
    "guadalajara = guadalajara.replace({\"roadType\": road_dict})"
   ]
  },
  {
   "cell_type": "code",
   "execution_count": 10,
   "metadata": {},
   "outputs": [],
   "source": [
    "mexico = pd.concat([leon, guadalajara])"
   ]
  },
  {
   "cell_type": "code",
   "execution_count": 11,
   "metadata": {},
   "outputs": [],
   "source": [
    "datasets = [peeps, leon, guadalajara]"
   ]
  },
  {
   "cell_type": "markdown",
   "metadata": {},
   "source": [
    "# Extra Trees"
   ]
  },
  {
   "cell_type": "code",
   "execution_count": 12,
   "metadata": {},
   "outputs": [],
   "source": [
    "from sklearn import preprocessing"
   ]
  },
  {
   "cell_type": "code",
   "execution_count": 91,
   "metadata": {},
   "outputs": [],
   "source": [
    "def et_results(combinations, window_size):\n",
    "    results = {}\n",
    "    for i in range(len(combinations)):\n",
    "        size = len(combinations[i])\n",
    "        mean = combinations[i]['pm2_5'].mean()\n",
    "        df = combinations[i].drop(['timestamp','pm2_5', 'closest_pm_id', 'hour_of_day'], axis = 1)\n",
    "        \n",
    "        if (window_size == 15):\n",
    "            df = df.drop(['30min_avg', '60min_avg'], axis=1)\n",
    "        elif (window_size == 30):\n",
    "            df = df.drop(['15min_avg', '60min_avg'], axis=1)\n",
    "        elif (window_size == 60):\n",
    "            df = df.drop(['15min_avg', '30min_avg'], axis=1)\n",
    "            \n",
    "        labels = combinations[i][['pm2_5']]\n",
    "        X_train, X_test, y_train, y_test = train_test_split(df, labels, test_size=0.25, random_state=0)\n",
    "      \n",
    "        \n",
    "        \n",
    "        reg = ExtraTreesRegressor(max_depth = 100, n_estimators=90,max_features=5, random_state=0).fit(np.asarray(X_train), np.ravel(y_train))         \n",
    "\n",
    "        pred = reg.predict(X_test)\n",
    "\n",
    "        rmse = np.sqrt(mean_squared_error(np.asarray(y_test), pred))\n",
    "        mae = mean_absolute_error(np.asarray(y_test), pred)\n",
    "        mape = mean_absolute_percentage_error(list(y_test.pm2_5), pred)\n",
    "        results[i] = (size, mean, rmse, mae, mape)\n",
    "        \n",
    "    return results"
   ]
  },
  {
   "cell_type": "markdown",
   "metadata": {},
   "source": [
    "## 15 min"
   ]
  },
  {
   "cell_type": "code",
   "execution_count": 30,
   "metadata": {},
   "outputs": [],
   "source": [
    "extra_trees = et_results(datasets, 15)"
   ]
  },
  {
   "cell_type": "code",
   "execution_count": 31,
   "metadata": {},
   "outputs": [
    {
     "name": "stdout",
     "output_type": "stream",
     "text": [
      "  combination    size     mean     rmse      mae     mape\n",
      "-------------  ------  -------  -------  -------  -------\n",
      "            0   56226  78.4768  12.1211  4.80005  11.5409\n",
      "            1    5169  25.4675  10.2977  6.60234  31.8927\n",
      "            2    2944  22.6717  10.2732  6.26155  40.1893\n"
     ]
    }
   ],
   "source": [
    "print(tabulate([(k,) + v for k,v in extra_trees.items()], headers = [\"combination\", \"size\",\"mean\",\"rmse\", \"mae\", \"mape\"])) "
   ]
  },
  {
   "cell_type": "markdown",
   "metadata": {},
   "source": [
    "## 30 min"
   ]
  },
  {
   "cell_type": "code",
   "execution_count": 92,
   "metadata": {},
   "outputs": [],
   "source": [
    "extra_trees_30 = et_results(datasets, 30)"
   ]
  },
  {
   "cell_type": "code",
   "execution_count": 93,
   "metadata": {},
   "outputs": [
    {
     "name": "stdout",
     "output_type": "stream",
     "text": [
      "  combination    size     mean     rmse      mae     mape\n",
      "-------------  ------  -------  -------  -------  -------\n",
      "            0   56226  78.4768  12.9591  5.28743  13.1386\n",
      "            1    5169  25.4675  10.4354  6.75571  32.941\n",
      "            2    2944  22.6717  10.638   6.29745  41.145\n"
     ]
    }
   ],
   "source": [
    "print(tabulate([(k,) + v for k,v in extra_trees_30.items()], headers = [\"combination\", \"size\",\"mean\",\"rmse\", \"mae\", \"mape\"])) "
   ]
  },
  {
   "cell_type": "markdown",
   "metadata": {},
   "source": [
    "## 60 min"
   ]
  },
  {
   "cell_type": "code",
   "execution_count": 94,
   "metadata": {},
   "outputs": [],
   "source": [
    "extra_trees_60 = et_results(datasets, 60)"
   ]
  },
  {
   "cell_type": "code",
   "execution_count": 95,
   "metadata": {},
   "outputs": [
    {
     "name": "stdout",
     "output_type": "stream",
     "text": [
      "  combination    size     mean     rmse      mae    mape\n",
      "-------------  ------  -------  -------  -------  ------\n",
      "            0    5169  25.4675  10.2779  6.61914  31.625\n"
     ]
    }
   ],
   "source": [
    "print(tabulate([(k,) + v for k,v in extra_trees_60.items()], headers = [\"combination\", \"size\",\"mean\",\"rmse\", \"mae\", \"mape\"])) "
   ]
  }
 ],
 "metadata": {
  "kernelspec": {
   "display_name": "Python 3",
   "language": "python",
   "name": "python3"
  },
  "language_info": {
   "codemirror_mode": {
    "name": "ipython",
    "version": 3
   },
   "file_extension": ".py",
   "mimetype": "text/x-python",
   "name": "python",
   "nbconvert_exporter": "python",
   "pygments_lexer": "ipython3",
   "version": "3.7.9"
  },
  "toc": {
   "base_numbering": 1,
   "nav_menu": {},
   "number_sections": true,
   "sideBar": true,
   "skip_h1_title": false,
   "title_cell": "Table of Contents",
   "title_sidebar": "Contents",
   "toc_cell": false,
   "toc_position": {
    "height": "calc(100% - 180px)",
    "left": "10px",
    "top": "150px",
    "width": "288px"
   },
   "toc_section_display": true,
   "toc_window_display": true
  }
 },
 "nbformat": 4,
 "nbformat_minor": 4
}
